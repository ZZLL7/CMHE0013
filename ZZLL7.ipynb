{
 "cells": [
  {
   "cell_type": "markdown",
   "metadata": {},
   "source": [
    "# Technical Report\n",
    "\n",
    "This report will describe the analysis of data from the NHS and World Health Organisation (WHO) for an assignment for the course 'CHME0013: Data Methods for Health Research' at University College London. Python code used for the analysis follows the report, and sites for downloading the data are shown in the code. This .ipynb file has also been uploaded to as requested.\n",
    "\n",
    "\n",
    "## NHS Prescribing Data\n",
    "\n",
    "This has no null values or empty cells, and where numerical values would be expected, a very small number of cells with '0'. Though this does not rule out errors which are frequently present in clinical data (Hripcsak & Albers, 2013).\n",
    "\n",
    "The data covers the whole of England, to analyse data for a city such as London, it has to be selected. There is no single definition of city regions, 'in essence they refer to metropolitan centres and their “functional areas”' (UK Office of National Statistics (ONS, 2016))\n",
    "\n",
    "\n",
    "### London\n",
    "'London' does not have a definition. The Greater London Authority provide a map of the area they have jurisdiction over (GLA, 2015), and this could be defined as selection criteria using postcodes but this would be complex as postcodes are defined for administrative purposes of the post office and do not correlate well with the GLA area.\n",
    "\n",
    "An NHS definition seems appropriate, but there are several possible approaches.\n",
    "\n",
    "The area covered by the London team of NHS England seems a reasonable definition of London, and in practice using a list of \n",
    "Clinical Commissioning Groups (CCGs) that are managed by this team is possible.\n",
    "\n",
    "(A) Practice data with registered patient numbers is available. Selecting practices covered by London CCGs gives 1323 practices.\n",
    "\n",
    "(B) Prescribing data for all of England for  April 2018 is also available, If this is searched for practices covered by London CCGs it gives 1518 practices.\n",
    "\n",
    "(C) Using the prescribing data and selecting practices covered by the area teams that cover London (coded ‘Q61’, ‘Q62’, and ‘Q63’), gives 1649 practices.\n",
    "\n",
    "Data Source       | 'London' Definition              | Number of practices\n",
    "---               |---                               |---\n",
    "Practice data     | London CCGs                      | 1323\n",
    "Prescribing data  | London CCGs                      | 1518\n",
    "Prescribing data  | London area teams Q61, Q61, Q62  | 1649\n",
    "\n",
    "Many organisations that are in the 1649, but not in the 1518, are not based in London (e.g. Coventry and Truro). It appears some area teams manage non-geographically based organisations.\n",
    "\n",
    "The 1518 is probably the best list of practices that prescribe in London. However to look at per patient spending it will be necessary to use the 1323 practices with registered patient numbers available. It would be possible to impute data on patient numbers where we don't have them, but there may be systematic differences between the different groups.\n",
    "\n",
    "The NHS undergoes almost continuous reorganisation on a geographical and administrative basis. Practices are continuously being created and dissolved (Guardian, 2018), so some discrepancies are expected.\n",
    "\n",
    "\n",
    "# Cambridge\n",
    "\n",
    "For Cambridge the relevant CCG is NHS Cambridgeshire and Peterborough – covering far more than Cambridge. Again there is a difference between the administrative boundary of 'Cambridge' and ‘Cambridge’  postcodes. The most practical search criteria is the use of postcodes CB1-5, from reviewing the areas covered by those postcodes.\n",
    "\n",
    "![Area covered by postcodes CB1-CB5](images/cambridge.png)\n",
    "\n",
    "(Map from https://www.freemaptools.com/uk-postcode-map.htm) \n",
    " \n",
    "The number of patients registered with practices whose addresses are in these postcode areas (191,931) differs from the population of Cambridge from the ONS (155,806 - which includes students) (ONS, 2016). However postcodes of CB1-5 only roughly correspond with 'Cambridge', and patients registered with those practices may come from outside those postcode areas. To look at prescriptions only for people *living* in Cambridge, addresses of individual patients, and a definition of which postcodes correspond to an address in Cambridge (using the full postcode) would be needed.\n",
    "\n",
    "\n",
    "### London and Cambridge comparison\n",
    "\n",
    "Table                     | London         |  Cambridge     | Proportion (Cam/London) |\t\n",
    "---                       |---             |---             |---                      |\n",
    "Number of practices       | 1323           | 17             | 0.0128                  |\n",
    "Patients registered       | 9,851,208      | 191,931        | 0.0194                  |\n",
    "Number of prescriptions   | 1,401,350      | 160,494        | 0.1145                  |\n",
    "Prescriptions per patient | 0.1423         | 0.8362\t        | 5.88                    |\n",
    "Total cost                | £76,586,738.71 | £ 1,227,048.96 | 0.0160                  |\n",
    "Cost per patient          | £ 7.77         | £ 6.39\t        | 0.82                    |\n",
    "Cost per script\t          | £54.53         | £ 7.65         | 0.14                    |\n",
    "\n",
    "On average there are more patients registered per practice in Cambridge, though the average patient in Cambridge has many times more items prescribed. The cost per patient registered is lower in Cambridge, but the average cost per prescription in London is many times higher.\n",
    "\n",
    "\n",
    "### Top and bottom ten items prescribed\n",
    "\n",
    "**Top 10 items prescribed:**\n",
    "\n",
    "London                             |      Cambridge\n",
    "---                                |---\n",
    "Omeprazole Cap E/C 20mg            |      Omeprazole Cap E/C 20mg               \n",
    "Metformin HCl_Tab 500mg            |      Atorvastatin Tab 20mg      \n",
    "Amlodipine Tab 5mg                 |      Aspirin Disper_Tab 75mg      \n",
    "Atorvastatin Tab 20mg              |      Amlodipine Tab 5mg       \n",
    "Aspirin Disper_Tab 75mg            |      Salbutamol_Inha 100mcg (200 D) CFF      \n",
    "Amlodipine Tab 10mg                |      Paracet_Tab 500mg   \n",
    "Atorvastatin Tab 40mg              |      Metformin HCl_Tab 500mg     \n",
    "Lansoprazole Cap 30mg (E/C Gran)   |      Folic Acid Tab 5mg        \n",
    "Salbutamol_Inha 100mcg (200 D) CFF |      Amitriptyline HCl_Tab 10mg  \n",
    "Paracet_Tab 500mg                  |      Levothyrox Sod Tab 25mcg    \n",
    "\t             \n",
    "There are three items that differ in each top 10, though it is difficult to understand the significance of this without more analysis. The list shows the exact items and it may better to combine e.g. amlodipine 5 mg and 10 mg, as one ‘drug’. It also uses the number of items prescribed, not the number of ‘tablets’. So one prescription could cover different amounts of tablets / periods of time.\n",
    "\n",
    "\n",
    "**Bottom 10 items prescribed**\n",
    "\n",
    "London                                      | Cambridge\n",
    "---                                         |---\n",
    "Ketamine_Inj 10mg/ml 20ml Vl                | Insight 2 Tube Holder Tracheo TH100 \n",
    "KetoClassic 3:1_Meal Pouch 135g (Chkn)      | Insupen Needles Pen Inj Screw On 4mm/33\n",
    "Ketoconazole_Tab 200mg                      | Intuniv_Tab 3mg M/R   \n",
    "Kliniderm Foam Slc Border 10cm x 30cm Wo    | Irbesartan/Hydchloroth_Tab 300mg/25mg \n",
    "Kliniderm fiber cmc 5cm x 5cm Wound Dres    | IryCone+ Irrig System  \n",
    "Knit-Band 15cm x 4m Ktd Polyam & Cellulo    | Ismo 20_Tab 20mg  \n",
    "KoCarbon Occlusive 4cmx6.4cm Wound Dress    | Isosorbide Dinit_Tab 10mg  \n",
    "Konakion MM_I/V Inj 10mg/ml 1ml Amp         | Isosorbide Dinit_Tab 20mg  \n",
    "KytoCel 10cm x 10cm Wound Dress Protease    | Isotard 40 XL_Tab 40mg   \n",
    "varicase Class 2 Thigh Open Toe Slc Band    | 365 Strips Skin Closure Strips Ster Surg \n",
    "\n",
    "There are no similarities between London and Cambridge in the least frequent items prescribed. Some of the bottom 10 items are not ‘drugs’, and could if desired be filtered out using the BNF code.\n",
    "\n",
    "\n",
    "### Variation in prescribing by individual practices\n",
    "\n",
    "Variations in prescribing may have clinical reasons, but also may not be clinically justified and then could increase costs. Though this is complex, with different patient populations in different areas.\n",
    "\n",
    "The figure below attempts to illustrate differences in prescribing between practices in Cambridge. It uses the list of the ten most commonly prescribed items for all of Cambridge, and also the ten most common prescriptions for each practice in Cambridge individually.\n",
    "\n",
    "The overall list is then compared with each individual practice, and if the item from the overall list is also in the top ten for that practice the appropriate square is grey, otherwise it is pink. Overall there appears to be considerable variation in prescribing amongst these practices.\n",
    "\n",
    "There appears to be decreasing amounts of grey moving from right to left. This would be expected as the larger practices on the right would contribute more to the combined list than those on the left. Y00056 which has a considerably different profile to the others is an access surgery for homeless people.\n",
    "\n",
    "There is also an impression of deceasing amounts of grey moving down the plot. This also appears likely, as intuitively the most popular items overall are more likely to be in the top 10 for individual practices.\n",
    "\n",
    "![Plot of different practices](images/cam_gp_comp.png)\n",
    "\n",
    "\n",
    "\n",
    "## Total spending and relative cost per patient across all practices\n",
    "\n",
    "### Total spending\n",
    "Statistic | Value\n",
    "---|---\n",
    "count  |    9578.000000\n",
    "mean   |   67152.577803\n",
    "std    |   63070.800123\n",
    "min    |       0.210000\n",
    "25%    |   14214.367500\n",
    "50%    |  55519.555000\n",
    "75%    |  102669.520000\n",
    "max    |  842838.180000\n",
    "\n",
    "A likely cause of the conisderable variation in total spending by a practice is the number of patients registered with a practice. Per patient spending may be more useful for analysis of spending.\n",
    "\n",
    "![Actual cost of all practices](images/all_act_cost.png)\n",
    "\n",
    " \n",
    "### Per patient spending\n",
    "\n",
    "**Missing data**\n",
    "There are 2387 practices with prescribing data, but no practice data (e.g. numbers of patients). This is a substantial proportion (almost exactly 25%). \n",
    "\n",
    "We have little data on both groups to compare them except the total cost of prescriptions. If this is plotted for both groups sorted in order, and spaced so that they cover the x-axis, then, if total spending had identical distributions for each group these plots would overlap, but they are clearly different.\n",
    "\n",
    "![Per patient plots for groups with data missing and not missing](all_missing_nt_mss_act_cost.png)\n",
    "\n",
    "The same data can be plotted as a boxplot, again showing clear differences.\n",
    "\n",
    "![Boxplot](box_all_missing_nt_mss_act_cost.png)\n",
    "\n",
    "Practices missing data have much lower costs on average, and so do not appear to be missing completely at random. A search using gp-patient.co.uk for those practices with missing data, shows many appear to have no data available.\n",
    "\n",
    "For those practices with missing patient data, if it was assumed that their patient numbers were in proportion to their smaller total cost, then they would have an average of 447 patients, as against an average 8154 for those practices where we do have data.\n",
    "\n",
    "There does not appear to be a geographical correlation with those practices missing data - using SHA as an approximation for geographical area, no SHA stands out as having many more missing.\n",
    "\n",
    "It would be possible to impute 447 patients where patients numbers are missing, but this relies on several assumptions and does not appear essential, so the analysis below will use only the data available.\n",
    "\n",
    "**Spending per patient**\n",
    "Statistic | Value\n",
    "---|---\n",
    "count  |  7191.000000\n",
    "mean   |    11.606497\n",
    "std    |    38.868946\n",
    "min    |     0.001724\n",
    "25%    |     8.875578\n",
    "50%    |    10.914659\n",
    "75%    |    12.690038\n",
    "max    |  2830.020000\n",
    "\n",
    "![plot_all_act_cost_pat_nums.png](images/plot_all_act_cost_pat_nums.png)\n",
    "\n",
    "It is possible larger practices are able to achieve economies of scale and have lower costs per patient, but this does not generally appear to be the case. There are some outliers with very small numbers of patients and high costs.\n",
    "\n",
    "The practice with highest per patient cost is http://www.vernovahealthcare.org/ . This takes referrals for procedures from GPs, probably explaining the high cost. There is nothing obvious distinguishing the practice with lowest cost per patient.\n",
    "\n",
    "7165 practices out of 7191 spend less than £25 per patient, but scaling for the outliers makes these hard to view. Replotting only for practices with per patient cost of less than £25 gives a clearer picture.\n",
    "\n",
    "![plot_sub25_pp_num.png](images/plot_sub25_pp_num.png)\n",
    "\n",
    "This figure shows the cost per patient vs. number of registered patients at that practice (for those with a cost per patient of <£25). The trendline shows that cost per patient reduces very marginally as the practice has more patients (-£0.0000114 per patient, or 1.1 pence / thousand patients). The colourmapping shows the number of items prescribed by the practice as a proportion of the maxiumum number of item prescribed by any practice. This shows that practices prescribing more items (for the same number of patients) have a higher cost per patient. For practices with 5000 patients as the cost gets higher, the proportion moves from around 0.05, to 0.075 to 0.15.\n",
    "\n",
    "![plot_sub25_pp.png](images/plot_sub25_pp.png)\n",
    "\n",
    "\n",
    "![hist_sub25_pp.png](images/hist_sub25_pp.png) \n",
    "\n",
    "\n",
    "![hist_sub25_pp_pdf.png](images/hist_sub25_pp_pdf.png)\n",
    "\n",
    "\n",
    "\n",
    "### Spending by drug categories\n",
    "\n",
    "Drug category   | Actual cost  | Number of prescriptions\n",
    "---             |---           |---\n",
    "Cardiovascular  | £90,193,830  | 26,449,300\n",
    "Antidepressants | £16,853,470  |  5,715,873\n",
    "\n",
    "The NHS spends nearly six times as much on treatment of cardiovascular conditions as on antidepressants.\n",
    "\n",
    "\n",
    "## Number of practices in each city, using PandaSQL\n",
    "\n",
    "Defining a city by postcode is difficult. Different cities (e.g. St. Albans and Hatfield) can have the same postcode area, and the same city (e.g. London) can have different postcode areas, though with appropriate funding it would be possible to determine the full postcode for each area of all cities.\n",
    "\n",
    "Using the address is also problematic. On inspection of address data for practices (using Excel) many do not adhere to addressing guidelines. Some practices well outside a city list the city as part of their address, and some in a city, list a city district in the equivalent part of their address. \n",
    "\n",
    "The logic described below uses a combination of the two final address columns (columns 6 & 7). Many entries in column 6 (renamed ‘ad3’) are blank. The WITH subclause below selects the entry in column 7 (‘ad4’) when this is the case.\n",
    "\n",
    "Line | code\n",
    "---|:---\n",
    "1 |WITH temp_table AS (\n",
    "2 |    SELECT CASE \n",
    "3 |        WHEN ad3 = '' \n",
    "4 |        OR ad3 IS NULL \n",
    "5 |        OR LENGTH (TRIM (ad3))  = 0 \n",
    "6 |    THEN ad4 \n",
    "7 |    ELSE ad3 END \n",
    "8 |    AS city FROM prcts) \n",
    "\n",
    "The main clause then groups the results from the first clause, counts them by city, and orders them in descending order of the count. The number displayed (51) was selected as there are 51 cities in the UK (DCMS, 2013). However, Oxford is not included in the 51 – and clearly should be a city – and more consideration is needed about how long the list should be. The number of practices in London also does not match the number noted earlier in this assignment, and a better mechanism is needed.\n",
    "\n",
    "Line | code\n",
    "---|:---\n",
    "1 | SELECT city, count(city) \n",
    "2 |    FROM temp_table \n",
    "3 |     GROUP BY city \n",
    "4 |     ORDER BY count(city) DESC \n",
    "5 |     LIMIT(51)\n",
    "\n",
    "\n",
    "\n",
    "\n",
    "\n",
    "\n",
    "# World Health Organisation (WHO) data\n",
    "\n",
    "The WHO provides data on populations, birth and deaths. The mortality data has nearly 3.6 million rows with 39 columns. A significant proportion of these data points (7.8%) have null values, though not in the 'country', 'year', 'cause', 'sex', 'format', 'IMformat' or 'Deaths1' columns. This would be expected as all records should have these values, some possible data points not used in some recording formats. There may still be errors in the data but presumably it has been through an extensive verification process by the time it gets to the WHO.\n",
    "\n",
    "**Data quality for mortality data for Italy**\n",
    "There are null values in ‘admin1’ and ‘subdiv’ columns. These columns would only be used if the data was reported for particular regions or categories within the country, and are not used for Italy. All the death columns hold numerical data (as they are defined as float columns), are therefore do hold a number. \n",
    "\n",
    "**WHO population data description and analysis**\n",
    "\n",
    "Data for 2010\n",
    "\n",
    "Country      | Population  | Mortality\n",
    "---          |---          |---\n",
    "Iceland      | 318041      | 4038\n",
    "New Zealand  | 4367360     | 57298\n",
    "Italy        | 60483386    | 1169230\n",
    "\n",
    "\n",
    "## Italy\n",
    "\n",
    "The figure below shows absolute numbers of deaths for the age groups shown on the x-axis for Italy (all years held by the WHO).\n",
    "\n",
    "![Italy - Deaths by age group](images/italy_all.png)\n",
    "\n",
    "The mortality data records cause of death as an ICD10 code. The ICD10 clinical terminology coding system has 14,199 codes (WHO, 2019). Neoplasms are coded using C00-D49 using the ICD10 coding system, so can be selected by any ICD10 codes either starting with ‘C’ or with ‘D1’ – ‘D5’. The 4th character can be used to record additional information, such as anatomical location. For example, neoplasm of breast can be recorded with C50.1 to C50.8 recording anatomical locations, and C50.9 as unspecified location.\n",
    "\n",
    "For Italy out of all the the codes starting 'C50', only used 0.1% use 'C50.0' to 'C50.8', with 99.9% being recorded as 'C50.9'. So only the first three characters carry any real information in this instance.\n",
    "\n",
    "The table below shows the five most common causes of death from neoplasm in Italy over all the years recorded by the WHO. The frequency of types of neoplasm could have changed over time, and so this does not necessarily reflect the current situation, and all have '9' as the 4th digit. \n",
    "\n",
    "![Italy - Table 'top 5' neoplasms](images/table_italy_neo_t5.png)\n",
    "\n",
    "This table shows 'Bronchus and lung' neoplasms are nearly three times as likely as the next most common site and cause 2.19% of overall deaths.\n",
    "\n",
    "The two figures below are pie charts representing respectively, the relative proportions of deaths caused by the top 5 causes of death from neoplasm, and the proportion of overall deaths caused by neoplasms.\n",
    "\n",
    "![Italy - Pie chart 'top 5' neoplasms](images/italy_pie_t5.png)\n",
    "\n",
    "![Italy - Piechart neoplasms and all deaths](images/italy_pie_neo.png)\n",
    "\n",
    "Pie charts rely on the viewer being able to compare angles, or areas, which are difficult. It is much easier to compare the size of objects along one dimension (Aspinall, 2007).\n",
    "\n",
    "\n",
    "## Australia\n",
    "\n",
    "ICD10 code | Cause                                                      | Number | \n",
    "-----------|:-----------------------------------------------------------|-------:|\n",
    "C349       | Malignant neoplasm of unspecified part of bronchus or lung | 7989   |   \n",
    "C61        | Malignant neoplasm of prostate                             | 3236   |\n",
    "C509       | Malignant neoplasm of breast of unspecified site           | 2865   | \n",
    "C809       | Malignant neoplasm, site not specified or unknown          | 2783   |\n",
    "C259       | Malignant neoplasm of pancreas, unspecified                | 2367   |   \n",
    "\n",
    "\n",
    "The top 5 neoplasms as cause of death differ from Italy, and include neoplasms of the prostate, and those with an unknown or unspecified site, replacing colon and stomach in the top 5 for Italy.\n",
    "\n",
    "![Australia - Barchart, all deaths and neoplasms by age group](images/aus_bar_all_neo.png)\n",
    "\n",
    "There are clear differences in absolute numbers of deaths from neoplasms in Australia in 2010 by age group. However groups are not identical; ages under 5 are shown as individual years, then up to 95 years shown as 5 year age groups and over 95 all together. \n",
    "\n",
    "It is hard to judge the proportion of deaths caused by neoplasms from the figure above, and the figure below illustrates this better. This clearly shows a higher proportion around two age groups - 5-9 years and 60-64 years. Though there are differences in recording younger age groups as noted above, and absolute numbers are smaller.\n",
    "\n",
    "![Australia - Proportional barchart, all deaths and neoplasms by age group](images/aus_bar_prop.png)\n",
    "\n",
    "The age groups for the highest absolute numbers of deaths from neoplasms (80-84 years), differs from the age groups with the highest proportions of deaths from neoplasms (), and this differs again from the age group for highest absolute numbers of deaths (85-89 years).\n",
    "\n",
    "![Australia - Table, age groups, highest deaths from neoplasms](images/aus_table_ages_neo.png)\n",
    "\n",
    "\n",
    "### Italy and Australia compared\n",
    "\n",
    "The figure below shows absolute numbers for all deaths, and deaths from neoplasms in Italy in 2010. As with the equivalent charts from Australia, ages under 5 and over 95 are grouped differently. Age groups for highest absolute deaths (all and caused by neoplasms) and highest proportions caused by neoplasms are the same as Australia. the population of Italy is around three times that of Australia, so absolute numbers are higher for Italy. Percentage mortality is lower in Australia, but the percentage of deaths from neoplasms is very similar.\n",
    "\n",
    "![Italy - Barchart, all deaths and neoplasms by age group](images/italy_bar_all_neo.png)\n",
    "\n",
    "![Italy - Proportional barchart, all deaths and neoplasms by age group](images/italy_bar_prop.png)\n",
    "\n",
    "\n",
    "**2010**\n",
    "Country    | Population  | Mortality | % mortality  | Neoplasm mortality  | Neoplasms % of all deaths\n",
    "---        |---          |---        |---           |---                  |---\n",
    "Italy      | 60483386    | 1169230   | 1.93 %       | 175045              | 14.97 %\n",
    "Australia  | 22297515    |  286946   | 1.29 %       |  43313              | 15.10 %\n",
    "  \n",
    "\n",
    "**Logic used to obtain numbers in the table above above**\n",
    "\n",
    "Step  | Process\n",
    "---   |:---\n",
    " | Use a For loop to go through a list of countries\n",
    " | Slice country codes dataframe using country name to get country code\n",
    " | Slice population dataframe by country code and year to get population\n",
    " | Slice mortality dataframe by country code and year to get all deaths for that country and year. Then select the 'deaths1' column to get total deaths and sum that for all years and male and female  \n",
    " | Then slice the mortality dataframe again by country code and year, and then slice this by 'cause', selecting those starting either 'C' or 'D1' - 'D5' to select neoplams  \n",
    " | Sum this to get deaths from neoplasms\n",
    " | Calculate percentages\n",
    " \n",
    " \n",
    "## Summary\n",
    " \n",
    "Enormous amounts of data are freely available on-line. That available from authoritative sources contains few null values, though some may be disorganised, and it is not possible to detect errors. Even with large amounts of correct data, drawing conclusions from this is difficult, often due to difficulties in determining how to group data when unclear definitions are used.\n",
    "\n",
    "### References\n",
    "\n",
    "Department  for Culture, Media and Sport (2013) https://webarchive.nationalarchives.gov.uk/20130128133540/http://www.culture.gov.uk/what_we_do/honours/7610.aspx#cities  Accessed 05.01.2019\n",
    "\n",
    "GLA (2015) https://www.london.gov.uk/sites/default/files/gla_postcode_map_a3_map1.pdf  Accessed 05.01.2019\n",
    "\n",
    "Guardian (2018) https://www.theguardian.com/society/2018/may/30/more-than-1-million-patients-forced-to-change-gp-since-2013  Accessed 17.01.2019\n",
    "\n",
    "Hripcsak G & Albers DJ (2013) Next-generation phenotyping of electronic health records, J Am Med Inform Assoc 2013;20:117–121  Available from  https://academic.oup.com/jamia/article-abstract/20/1/117/2909152  Accessed 17.01.2019\n",
    "\n",
    "Nixon J (2017) The humble pie chart, ONS Digital blog, https://digitalblog.ons.gov.uk/2017/01/26/the-humble-pie-chart/  Accessed 17.01.2019 \n",
    "\n",
    "ONS (2016) https://www.ons.gov.uk/peoplepopulationandcommunity/populationandmigration/populationestimates/articles/populationdynamicsofukcityregionssincemid2011/2016-10-11)  Accessed 04.01.2019\n",
    "\n",
    "ONS (2016) https://www.ons.gov.uk/peoplepopulationandcommunity/populationandmigration/populationestimates/adhocs/008264midyearpopulationestimatesformajortownsandcities2016  Accessed 12.01.2019\n",
    "\n",
    "WHO (2019) Webpage: https://www.who.int/classifications/help/icdfaq/en/  Accessed 17.01.2019\n"
   ]
  },
  {
   "cell_type": "markdown",
   "metadata": {},
   "source": [
    "# Code"
   ]
  },
  {
   "cell_type": "code",
   "execution_count": 1,
   "metadata": {},
   "outputs": [],
   "source": [
    "import pandas as pd\n",
    "import numpy as np\n",
    "import matplotlib.pyplot as plt\n",
    "%matplotlib inline"
   ]
  },
  {
   "cell_type": "markdown",
   "metadata": {},
   "source": [
    "# NHS Prescribing data for April 2018"
   ]
  },
  {
   "cell_type": "code",
   "execution_count": 2,
   "metadata": {},
   "outputs": [
    {
     "name": "stdout",
     "output_type": "stream",
     "text": [
      "[' SHA' 'PCT' 'PRACTICE' 'BNF CODE'\n",
      " 'BNF NAME                                    ' 'ITEMS  ' 'NIC        '\n",
      " 'ACT COST   ' 'QUANTITY' 'PERIOD' '                 ']\n",
      "['SHA' 'PCT' 'PRACTICE' 'BNF CODE' 'BNF NAME' 'ITEMS' 'NIC' 'ACT COST'\n",
      " 'QUANTITY' 'PERIOD' '']\n"
     ]
    },
    {
     "data": {
      "text/html": [
       "<div>\n",
       "<style scoped>\n",
       "    .dataframe tbody tr th:only-of-type {\n",
       "        vertical-align: middle;\n",
       "    }\n",
       "\n",
       "    .dataframe tbody tr th {\n",
       "        vertical-align: top;\n",
       "    }\n",
       "\n",
       "    .dataframe thead th {\n",
       "        text-align: right;\n",
       "    }\n",
       "</style>\n",
       "<table border=\"1\" class=\"dataframe\">\n",
       "  <thead>\n",
       "    <tr style=\"text-align: right;\">\n",
       "      <th></th>\n",
       "      <th>SHA</th>\n",
       "      <th>PCT</th>\n",
       "      <th>PRACTICE</th>\n",
       "      <th>BNF CODE</th>\n",
       "      <th>BNF NAME</th>\n",
       "      <th>ITEMS</th>\n",
       "      <th>NIC</th>\n",
       "      <th>ACT COST</th>\n",
       "      <th>QUANTITY</th>\n",
       "      <th>PERIOD</th>\n",
       "      <th></th>\n",
       "    </tr>\n",
       "  </thead>\n",
       "  <tbody>\n",
       "    <tr>\n",
       "      <th>0</th>\n",
       "      <td>Q44</td>\n",
       "      <td>RTV</td>\n",
       "      <td>Y04937</td>\n",
       "      <td>0401010Z0AAAAAA</td>\n",
       "      <td>Zopiclone_Tab 7.5mg</td>\n",
       "      <td>6</td>\n",
       "      <td>1.56</td>\n",
       "      <td>2.12</td>\n",
       "      <td>63</td>\n",
       "      <td>201804</td>\n",
       "      <td></td>\n",
       "    </tr>\n",
       "    <tr>\n",
       "      <th>1</th>\n",
       "      <td>Q44</td>\n",
       "      <td>RTV</td>\n",
       "      <td>Y04937</td>\n",
       "      <td>0401020K0AAAHAH</td>\n",
       "      <td>Diazepam_Tab 2mg</td>\n",
       "      <td>4</td>\n",
       "      <td>0.87</td>\n",
       "      <td>1.15</td>\n",
       "      <td>73</td>\n",
       "      <td>201804</td>\n",
       "      <td></td>\n",
       "    </tr>\n",
       "    <tr>\n",
       "      <th>2</th>\n",
       "      <td>Q44</td>\n",
       "      <td>RTV</td>\n",
       "      <td>Y04937</td>\n",
       "      <td>0401020K0AAAIAI</td>\n",
       "      <td>Diazepam_Tab 5mg</td>\n",
       "      <td>2</td>\n",
       "      <td>0.46</td>\n",
       "      <td>0.56</td>\n",
       "      <td>35</td>\n",
       "      <td>201804</td>\n",
       "      <td></td>\n",
       "    </tr>\n",
       "    <tr>\n",
       "      <th>3</th>\n",
       "      <td>Q44</td>\n",
       "      <td>RTV</td>\n",
       "      <td>Y04937</td>\n",
       "      <td>0402010ABAAABAB</td>\n",
       "      <td>Quetiapine_Tab 25mg</td>\n",
       "      <td>1</td>\n",
       "      <td>2.60</td>\n",
       "      <td>2.52</td>\n",
       "      <td>14</td>\n",
       "      <td>201804</td>\n",
       "      <td></td>\n",
       "    </tr>\n",
       "    <tr>\n",
       "      <th>4</th>\n",
       "      <td>Q44</td>\n",
       "      <td>RTV</td>\n",
       "      <td>Y04937</td>\n",
       "      <td>0402010ADAAAAAA</td>\n",
       "      <td>Aripiprazole_Tab 10mg</td>\n",
       "      <td>1</td>\n",
       "      <td>1.53</td>\n",
       "      <td>1.53</td>\n",
       "      <td>14</td>\n",
       "      <td>201804</td>\n",
       "      <td></td>\n",
       "    </tr>\n",
       "  </tbody>\n",
       "</table>\n",
       "</div>"
      ],
      "text/plain": [
       "   SHA  PCT PRACTICE         BNF CODE  \\\n",
       "0  Q44  RTV   Y04937  0401010Z0AAAAAA   \n",
       "1  Q44  RTV   Y04937  0401020K0AAAHAH   \n",
       "2  Q44  RTV   Y04937  0401020K0AAAIAI   \n",
       "3  Q44  RTV   Y04937  0402010ABAAABAB   \n",
       "4  Q44  RTV   Y04937  0402010ADAAAAAA   \n",
       "\n",
       "                                   BNF NAME  ITEMS   NIC  ACT COST  QUANTITY  \\\n",
       "0  Zopiclone_Tab 7.5mg                           6  1.56      2.12        63   \n",
       "1  Diazepam_Tab 2mg                              4  0.87      1.15        73   \n",
       "2  Diazepam_Tab 5mg                              2  0.46      0.56        35   \n",
       "3  Quetiapine_Tab 25mg                           1  2.60      2.52        14   \n",
       "4  Aripiprazole_Tab 10mg                         1  1.53      1.53        14   \n",
       "\n",
       "   PERIOD                      \n",
       "0  201804                      \n",
       "1  201804                      \n",
       "2  201804                      \n",
       "3  201804                      \n",
       "4  201804                      "
      ]
     },
     "execution_count": 2,
     "metadata": {},
     "output_type": "execute_result"
    }
   ],
   "source": [
    "# data = pd.read_csv('http://datagov.ic.nhs.uk/presentation/2018_04_April/T201804PDPI+BNFT.CSV')\n",
    "data = pd.read_csv('T201804PDPI+BNFT.csv')\n",
    "# remove extra spaces - lots of them in the column names\n",
    "print(data.columns.values)\n",
    "data.columns = data.columns.str.strip()\n",
    "print(data.columns.values)\n",
    "data.head()"
   ]
  },
  {
   "cell_type": "code",
   "execution_count": 3,
   "metadata": {},
   "outputs": [
    {
     "name": "stdout",
     "output_type": "stream",
     "text": [
      "Nulls 0\n",
      "Empty (array([], dtype=int64), array([], dtype=int64))\n",
      "Zeros Int64Index([1936304, 3644037, 5793428], dtype='int64')\n"
     ]
    }
   ],
   "source": [
    "print('Nulls', data.isnull().sum().sum())\n",
    "print('Empty', np.where(data.applymap(lambda x: x == ''))) # slow\n",
    "print('Zeros', data[data['ITEMS'] == 0].index)"
   ]
  },
  {
   "cell_type": "markdown",
   "metadata": {},
   "source": [
    "So there are no null values or empty strings in the prescribing data set - though errors are not known\n",
    "\n",
    "For three items, 0 prescriptions recorded, so in general is only of items that have been prescribed"
   ]
  },
  {
   "cell_type": "markdown",
   "metadata": {},
   "source": [
    "## Read in dataframe of all GP practices"
   ]
  },
  {
   "cell_type": "code",
   "execution_count": 3,
   "metadata": {},
   "outputs": [
    {
     "name": "stdout",
     "output_type": "stream",
     "text": [
      "Isnull\n",
      "0\n",
      "\n",
      "Shape\n",
      "(7241, 10)\n",
      "\n",
      "Total number of patients 59039595\n"
     ]
    },
    {
     "data": {
      "text/html": [
       "<div>\n",
       "<style scoped>\n",
       "    .dataframe tbody tr th:only-of-type {\n",
       "        vertical-align: middle;\n",
       "    }\n",
       "\n",
       "    .dataframe tbody tr th {\n",
       "        vertical-align: top;\n",
       "    }\n",
       "\n",
       "    .dataframe thead th {\n",
       "        text-align: right;\n",
       "    }\n",
       "</style>\n",
       "<table border=\"1\" class=\"dataframe\">\n",
       "  <thead>\n",
       "    <tr style=\"text-align: right;\">\n",
       "      <th></th>\n",
       "      <th>PUBLICATION</th>\n",
       "      <th>EXTRACT_DATE</th>\n",
       "      <th>TYPE</th>\n",
       "      <th>CCG_CODE</th>\n",
       "      <th>ONS_CCG_CODE</th>\n",
       "      <th>CODE</th>\n",
       "      <th>POSTCODE</th>\n",
       "      <th>SEX</th>\n",
       "      <th>AGE</th>\n",
       "      <th>NUMBER_OF_PATIENTS</th>\n",
       "    </tr>\n",
       "  </thead>\n",
       "  <tbody>\n",
       "    <tr>\n",
       "      <th>0</th>\n",
       "      <td>GP_PRAC_PAT_LIST</td>\n",
       "      <td>01APR2018</td>\n",
       "      <td>GP</td>\n",
       "      <td>00C</td>\n",
       "      <td>E38000042</td>\n",
       "      <td>A83005</td>\n",
       "      <td>DL1 3RT</td>\n",
       "      <td>ALL</td>\n",
       "      <td>ALL</td>\n",
       "      <td>11826</td>\n",
       "    </tr>\n",
       "  </tbody>\n",
       "</table>\n",
       "</div>"
      ],
      "text/plain": [
       "        PUBLICATION EXTRACT_DATE TYPE CCG_CODE ONS_CCG_CODE    CODE POSTCODE  \\\n",
       "0  GP_PRAC_PAT_LIST    01APR2018   GP      00C    E38000042  A83005  DL1 3RT   \n",
       "\n",
       "   SEX  AGE  NUMBER_OF_PATIENTS  \n",
       "0  ALL  ALL               11826  "
      ]
     },
     "execution_count": 3,
     "metadata": {},
     "output_type": "execute_result"
    }
   ],
   "source": [
    "# gp_data = pd.read_csv('https://files.digital.nhs.uk/71/B59D99/gp-reg-pat-prac-all.csv')\n",
    "gp_data = pd.read_csv('gp-reg-pat-prac-all.csv')\n",
    "print('Isnull')\n",
    "print(gp_data.isnull().sum().sum())\n",
    "print('\\nShape')\n",
    "print(gp_data.shape)\n",
    "print('\\nTotal number of patients', gp_data['NUMBER_OF_PATIENTS'].sum()) # This number agrees with NHS website\n",
    "gp_data.describe()\n",
    "gp_data.head(1)"
   ]
  },
  {
   "cell_type": "markdown",
   "metadata": {},
   "source": [
    "So we have data on 7241 GP practices, which again contains no null values\n",
    "\n",
    "## Then need to pick out GPs in London\n",
    "\n",
    "### CCGs covered by NHS England London"
   ]
  },
  {
   "cell_type": "code",
   "execution_count": 7,
   "metadata": {},
   "outputs": [
    {
     "data": {
      "text/plain": [
       "array(['07M', '07P', '08E', '07W', '07Y', '08C', '08G', '09A', '08Y',\n",
       "       '07L', '08F', '08H', '07R', '07T', '08M', '08V', '07X', '08D',\n",
       "       '08W', '08N', '08A', '07N', '07Q', '08Q', '08K', '08L', '07V',\n",
       "       '08P', '08J', '08X', '08T', '08R'], dtype=object)"
      ]
     },
     "execution_count": 7,
     "metadata": {},
     "output_type": "execute_result"
    }
   ],
   "source": [
    "# Gets list of all CCGs in London using the GP practice data - not the prescribing data\n",
    "# temp_df = pd.read_csv('https://files.digital.nhs.uk/5F/21E948/gp-reg-pat-prac-map.csv')\n",
    "temp_df = pd.read_csv('gp-reg-pat-prac-map.csv')\n",
    "london_ccgs = temp_df[temp_df['REGION_NAME'] == 'NHS England London']['CCG_CODE'].unique()\n",
    "london_ccgs_list = london_ccgs.tolist()\n",
    "london_ccgs"
   ]
  },
  {
   "cell_type": "code",
   "execution_count": 8,
   "metadata": {},
   "outputs": [
    {
     "data": {
      "text/plain": [
       "32"
      ]
     },
     "execution_count": 8,
     "metadata": {},
     "output_type": "execute_result"
    }
   ],
   "source": [
    "len(london_ccgs_list)"
   ]
  },
  {
   "cell_type": "markdown",
   "metadata": {},
   "source": [
    "### GPs that are in London CCGs"
   ]
  },
  {
   "cell_type": "code",
   "execution_count": 9,
   "metadata": {},
   "outputs": [
    {
     "name": "stdout",
     "output_type": "stream",
     "text": [
      "Number of GPs in London (that we have practice data for, from CCGs list): 1323\n"
     ]
    }
   ],
   "source": [
    "london_gps = gp_data[gp_data['CCG_CODE'].isin(london_ccgs_list)]\n",
    "print('Number of GPs in London (that we have practice data for, from CCGs list):', len(london_gps))\n",
    "london_gp_codes_list = london_gps['CODE'].tolist() # Need a list of the GPs codes later"
   ]
  },
  {
   "cell_type": "markdown",
   "metadata": {},
   "source": [
    "### London GP numbers from prescribing data"
   ]
  },
  {
   "cell_type": "code",
   "execution_count": 13,
   "metadata": {},
   "outputs": [
    {
     "name": "stdout",
     "output_type": "stream",
     "text": [
      "Number of GPs in London (that we have prescribing data for, from area codes): 1649\n"
     ]
    }
   ],
   "source": [
    "# London GPs from prescribing data using area team codes obtained from\n",
    "# https://www.local.gov.uk/sites/default/files/documents/mapping-ccgs-hwbs-and-hwb-507.xlsx\n",
    "london_gps2 = pd.DataFrame(data[data['SHA'].isin(['Q61', 'Q62', 'Q63'])]['PRACTICE'].unique(), columns=['PRACTICE'])\n",
    "print('Number of GPs in London (that we have prescribing data for, from area codes):', len(london_gps2))\n",
    "london_gp_codes_list2 = london_gps2['PRACTICE'].tolist() # Need a list of the GPs codes later"
   ]
  },
  {
   "cell_type": "code",
   "execution_count": 14,
   "metadata": {},
   "outputs": [
    {
     "name": "stdout",
     "output_type": "stream",
     "text": [
      "Number of GPs in London (that we have prescribing data for, from CCGs): 1518\n"
     ]
    }
   ],
   "source": [
    "# London GPs from prescribing data using CCGs\n",
    "london_gps3 = pd.DataFrame(data[data['PCT'].isin(london_ccgs_list)]['PRACTICE'].unique(), columns=['PRACTICE'])\n",
    "print('Number of GPs in London (that we have prescribing data for, from CCGs):', len(london_gps3))\n",
    "london_gp_codes_list3 = london_gps3['PRACTICE'].tolist() # Need a list of the GPs codes later"
   ]
  },
  {
   "cell_type": "code",
   "execution_count": 15,
   "metadata": {},
   "outputs": [
    {
     "name": "stdout",
     "output_type": "stream",
     "text": [
      "131\n"
     ]
    },
    {
     "data": {
      "text/plain": [
       "array(['ARG', 'AWH', 'DKH', 'NI3', 'NKI', 'RQX', 'RRV', 'RV3', 'RWK',\n",
       "       '704', '723', 'NKB', 'NLO', 'NT4', 'RYJ', 'RYX', 'R1K', 'AD9',\n",
       "       'AT0', 'DG3', 'NHT', 'NLG', 'NQV', 'RJ1', 'RJ2', 'RJ7', '720'],\n",
       "      dtype=object)"
      ]
     },
     "execution_count": 15,
     "metadata": {},
     "output_type": "execute_result"
    }
   ],
   "source": [
    "# CCGs of GPs from prescribing data that are in area codes Q61-3, but not in London CCGs ?\n",
    "lon_data_ck1 = data[data['PRACTICE'].isin(london_gp_codes_list2)]\n",
    "lon_data_ck1 = lon_data_ck1[~lon_data_ck1['PRACTICE'].isin(london_gp_codes_list3)]\n",
    "print(len(lon_data_ck1['PRACTICE'].unique()))\n",
    "# which CCGs are covered by Q61-3 but not a 'London' CCG?\n",
    "lon_data_ck1['PCT'].unique() "
   ]
  },
  {
   "cell_type": "code",
   "execution_count": 16,
   "metadata": {},
   "outputs": [
    {
     "data": {
      "text/html": [
       "<div>\n",
       "<style scoped>\n",
       "    .dataframe tbody tr th:only-of-type {\n",
       "        vertical-align: middle;\n",
       "    }\n",
       "\n",
       "    .dataframe tbody tr th {\n",
       "        vertical-align: top;\n",
       "    }\n",
       "\n",
       "    .dataframe thead th {\n",
       "        text-align: right;\n",
       "    }\n",
       "</style>\n",
       "<table border=\"1\" class=\"dataframe\">\n",
       "  <thead>\n",
       "    <tr style=\"text-align: right;\">\n",
       "      <th></th>\n",
       "      <th>AD1</th>\n",
       "      <th>AD2</th>\n",
       "      <th>AD3</th>\n",
       "      <th>AD4</th>\n",
       "      <th>PCD</th>\n",
       "    </tr>\n",
       "  </thead>\n",
       "  <tbody>\n",
       "    <tr>\n",
       "      <th>6560</th>\n",
       "      <td>ADDACTION COVENTRY</td>\n",
       "      <td>THE RECOVERY PARTNERSHIP</td>\n",
       "      <td>8 IRONMONGER ROW</td>\n",
       "      <td>COVENTRY</td>\n",
       "      <td>CV1 1FD</td>\n",
       "    </tr>\n",
       "    <tr>\n",
       "      <th>7054</th>\n",
       "      <td>MEDICAL RESPONSE TEAM OOH</td>\n",
       "      <td>GLOBAL HOUSE</td>\n",
       "      <td>STATION APPROACH</td>\n",
       "      <td>HAYES</td>\n",
       "      <td>BR2 7EH</td>\n",
       "    </tr>\n",
       "    <tr>\n",
       "      <th>7133</th>\n",
       "      <td>RESOURCE CENTRE</td>\n",
       "      <td>RESOURCE CENTRE</td>\n",
       "      <td>62 GREEN LANE</td>\n",
       "      <td>HANWELL</td>\n",
       "      <td>W7 2PB</td>\n",
       "    </tr>\n",
       "    <tr>\n",
       "      <th>7228</th>\n",
       "      <td>ADDACTION CORNWALL CENTRAL</td>\n",
       "      <td>WESTERN HOUSE</td>\n",
       "      <td>TABERNACLE STREET</td>\n",
       "      <td>TRURO</td>\n",
       "      <td>TR1 2EJ</td>\n",
       "    </tr>\n",
       "    <tr>\n",
       "      <th>7305</th>\n",
       "      <td>EALING PCT MUSCULOSKELETAL SERVICE</td>\n",
       "      <td>GREENFORD GREEN CLINIC</td>\n",
       "      <td>WADHAM GARDENS</td>\n",
       "      <td>GREENFORD</td>\n",
       "      <td>UB6 0BP</td>\n",
       "    </tr>\n",
       "  </tbody>\n",
       "</table>\n",
       "</div>"
      ],
      "text/plain": [
       "                                           AD1                        AD2  \\\n",
       "6560  ADDACTION COVENTRY                        THE RECOVERY PARTNERSHIP    \n",
       "7054  MEDICAL RESPONSE TEAM OOH                 GLOBAL HOUSE                \n",
       "7133  RESOURCE CENTRE                           RESOURCE CENTRE             \n",
       "7228  ADDACTION CORNWALL CENTRAL                WESTERN HOUSE               \n",
       "7305  EALING PCT MUSCULOSKELETAL SERVICE        GREENFORD GREEN CLINIC      \n",
       "\n",
       "                            AD3                        AD4       PCD  \n",
       "6560  8 IRONMONGER ROW           COVENTRY                   CV1 1FD   \n",
       "7054  STATION APPROACH           HAYES                      BR2 7EH   \n",
       "7133  62 GREEN LANE              HANWELL                    W7 2PB    \n",
       "7228  TABERNACLE STREET          TRURO                      TR1 2EJ   \n",
       "7305  WADHAM GARDENS             GREENFORD                  UB6 0BP   "
      ]
     },
     "execution_count": 16,
     "metadata": {},
     "output_type": "execute_result"
    }
   ],
   "source": [
    "# Get addresses of GPs that are covered by Q61-3, but not in London CCG\n",
    "address = pd.read_csv('T201804ADDR+BNFT.csv', header=None, names=['DATE', 'PRACTICE', 'AD1', 'AD2', 'AD3', 'AD4', 'AD5', 'PCD'])\n",
    "address = address[address['PRACTICE'].isin(lon_data_ck1['PRACTICE'].unique())]\n",
    "address[['AD1', 'AD2', 'AD3', 'AD4', 'PCD']].head()"
   ]
  },
  {
   "cell_type": "code",
   "execution_count": 17,
   "metadata": {},
   "outputs": [
    {
     "name": "stdout",
     "output_type": "stream",
     "text": [
      "350\n"
     ]
    },
    {
     "data": {
      "text/plain": [
       "array(['ARG', 'AWH', 'DKH', 'NI3', 'NKI', 'RQX', 'RRV', 'RV3', 'RWK',\n",
       "       '07L', '07M', '07R', '07T', '07X', '08D', '08F', '08H', '08M',\n",
       "       '08N', '08V', '08W', '704', '723', 'NKB', 'NLO', 'NT4', 'RYJ',\n",
       "       'RYX', 'R1K', '07P', '07W', '07Y', '08C', '08E', '08G', '08Y',\n",
       "       '09A', 'AD9', 'AT0', 'DG3', 'NHT', 'NLG', 'NQV', 'RJ1', 'RJ2',\n",
       "       'RJ7', '07N', '07Q', '07V', '08A', '08J', '08K', '08L', '08P',\n",
       "       '08Q', '08R', '08T', '08X', '720'], dtype=object)"
      ]
     },
     "execution_count": 17,
     "metadata": {},
     "output_type": "execute_result"
    }
   ],
   "source": [
    "# CCGs of GPs from prescribing data that are in area codes Q61-3, but we do not have practice data for\n",
    "lon_data_ck2 = data[data['PRACTICE'].isin(london_gp_codes_list2)]\n",
    "lon_data_ck2 = lon_data_ck2[~lon_data_ck2['PRACTICE'].isin(london_gp_codes_list)]\n",
    "print(len(lon_data_ck2['PRACTICE'].unique()))\n",
    "lon_data_ck2['PCT'].unique()"
   ]
  },
  {
   "cell_type": "markdown",
   "metadata": {},
   "source": [
    "### Choose which set of GPs to work (what is London?)"
   ]
  },
  {
   "cell_type": "code",
   "execution_count": 49,
   "metadata": {},
   "outputs": [],
   "source": [
    "# london_gp_codes_list = london_gp_codes_list # from practice data\n",
    "# london_gp_codes_list = london_gp_codes_list2 # from prescribing data using area codes\n",
    "london_gp_codes_list = london_gp_codes_list3 # from prescribing data using CCGs"
   ]
  },
  {
   "cell_type": "markdown",
   "metadata": {},
   "source": [
    "### Now select all prescriptions from London GPs as defined above"
   ]
  },
  {
   "cell_type": "code",
   "execution_count": 50,
   "metadata": {},
   "outputs": [
    {
     "name": "stdout",
     "output_type": "stream",
     "text": [
      "0\n",
      "(1428000, 11)\n"
     ]
    },
    {
     "data": {
      "text/html": [
       "<div>\n",
       "<style scoped>\n",
       "    .dataframe tbody tr th:only-of-type {\n",
       "        vertical-align: middle;\n",
       "    }\n",
       "\n",
       "    .dataframe tbody tr th {\n",
       "        vertical-align: top;\n",
       "    }\n",
       "\n",
       "    .dataframe thead th {\n",
       "        text-align: right;\n",
       "    }\n",
       "</style>\n",
       "<table border=\"1\" class=\"dataframe\">\n",
       "  <thead>\n",
       "    <tr style=\"text-align: right;\">\n",
       "      <th></th>\n",
       "      <th>SHA</th>\n",
       "      <th>PCT</th>\n",
       "      <th>PRACTICE</th>\n",
       "      <th>BNF CODE</th>\n",
       "      <th>BNF NAME</th>\n",
       "      <th>ITEMS</th>\n",
       "      <th>NIC</th>\n",
       "      <th>ACT COST</th>\n",
       "      <th>QUANTITY</th>\n",
       "      <th>PERIOD</th>\n",
       "      <th></th>\n",
       "    </tr>\n",
       "  </thead>\n",
       "  <tbody>\n",
       "    <tr>\n",
       "      <th>6011502</th>\n",
       "      <td>Q61</td>\n",
       "      <td>07L</td>\n",
       "      <td>F82001</td>\n",
       "      <td>0101010L0BEAAAI</td>\n",
       "      <td>Maalox Plus_Susp</td>\n",
       "      <td>1</td>\n",
       "      <td>2.91</td>\n",
       "      <td>2.71</td>\n",
       "      <td>250</td>\n",
       "      <td>201804</td>\n",
       "      <td></td>\n",
       "    </tr>\n",
       "  </tbody>\n",
       "</table>\n",
       "</div>"
      ],
      "text/plain": [
       "         SHA  PCT PRACTICE         BNF CODE  \\\n",
       "6011502  Q61  07L   F82001  0101010L0BEAAAI   \n",
       "\n",
       "                                         BNF NAME  ITEMS   NIC  ACT COST  \\\n",
       "6011502  Maalox Plus_Susp                              1  2.91      2.71   \n",
       "\n",
       "         QUANTITY  PERIOD                      \n",
       "6011502       250  201804                      "
      ]
     },
     "execution_count": 50,
     "metadata": {},
     "output_type": "execute_result"
    }
   ],
   "source": [
    "london_data = data[data['PRACTICE'].isin(london_gp_codes_list)]\n",
    "print(london_data.isnull().sum().sum())\n",
    "print(london_data.shape)\n",
    "london_data.head(1) # so this is a df of all prescriptions by GPs in London"
   ]
  },
  {
   "cell_type": "code",
   "execution_count": 51,
   "metadata": {},
   "outputs": [
    {
     "data": {
      "text/plain": [
       "1518"
      ]
     },
     "execution_count": 51,
     "metadata": {},
     "output_type": "execute_result"
    }
   ],
   "source": [
    "# How many practices do we have prescribing data for?\n",
    "check1 = london_data['PRACTICE'].unique()\n",
    "len(check1)"
   ]
  },
  {
   "cell_type": "code",
   "execution_count": 52,
   "metadata": {},
   "outputs": [
    {
     "data": {
      "text/plain": [
       "1323"
      ]
     },
     "execution_count": 52,
     "metadata": {},
     "output_type": "execute_result"
    }
   ],
   "source": [
    "# How many practices do we have practice data for?\n",
    "check2 = gp_data[gp_data['CCG_CODE'].isin(london_ccgs_list)]['CODE'].unique()\n",
    "# london_gp_codes_list = london_gps['CODE'].tolist()\n",
    "# check2 = london_data['PRACTICE'].unique()\n",
    "len(check2)"
   ]
  },
  {
   "cell_type": "code",
   "execution_count": 53,
   "metadata": {},
   "outputs": [
    {
     "name": "stdout",
     "output_type": "stream",
     "text": [
      "0\n"
     ]
    }
   ],
   "source": [
    "# How many practices do we have practice data for, but no prescription data\n",
    "check3 = np.setdiff1d(london_gp_codes_list, check1, assume_unique=True)\n",
    "print(len(check3))"
   ]
  },
  {
   "cell_type": "code",
   "execution_count": 54,
   "metadata": {},
   "outputs": [
    {
     "name": "stdout",
     "output_type": "stream",
     "text": [
      "219\n"
     ]
    }
   ],
   "source": [
    "# And how many practices do we have prescribing data for but no practice data\n",
    "check4 = np.setdiff1d(london_gp_codes_list, check2, assume_unique=True)\n",
    "print(len(check4))"
   ]
  },
  {
   "cell_type": "code",
   "execution_count": 55,
   "metadata": {},
   "outputs": [
    {
     "data": {
      "text/plain": [
       "9851208"
      ]
     },
     "execution_count": 55,
     "metadata": {},
     "output_type": "execute_result"
    }
   ],
   "source": [
    "# How many patients are registered with London GPs\n",
    "# Has to use pratice data\n",
    "london_gps['NUMBER_OF_PATIENTS'].sum()"
   ]
  },
  {
   "cell_type": "code",
   "execution_count": 56,
   "metadata": {},
   "outputs": [
    {
     "data": {
      "text/plain": [
       "1428000"
      ]
     },
     "execution_count": 56,
     "metadata": {},
     "output_type": "execute_result"
    }
   ],
   "source": [
    "# How many prescriptions were written in London in April 2018\n",
    "# Uses definition of London from above\n",
    "len(london_data)"
   ]
  },
  {
   "cell_type": "code",
   "execution_count": 57,
   "metadata": {},
   "outputs": [
    {
     "name": "stdout",
     "output_type": "stream",
     "text": [
      "£ 77495848.01\n"
     ]
    }
   ],
   "source": [
    "# Total cost of prescriptions written in London in April 2018\n",
    "print('£','%.2f' % london_data['ACT COST'].sum())"
   ]
  },
  {
   "cell_type": "code",
   "execution_count": 58,
   "metadata": {},
   "outputs": [
    {
     "data": {
      "text/plain": [
       "BNF NAME\n",
       "Omeprazole_Cap E/C 20mg                     240428\n",
       "Metformin HCl_Tab 500mg                     208255\n",
       "Amlodipine_Tab 5mg                          198459\n",
       "Atorvastatin_Tab 20mg                       182861\n",
       "Aspirin Disper_Tab 75mg                     168718\n",
       "Amlodipine_Tab 10mg                         155712\n",
       "Atorvastatin_Tab 40mg                       152073\n",
       "Lansoprazole_Cap 30mg (E/C Gran)            150071\n",
       "Salbutamol_Inha 100mcg (200 D) CFF          142599\n",
       "Paracet_Tab 500mg                           123929\n",
       "Name: ITEMS, dtype: int64"
      ]
     },
     "execution_count": 58,
     "metadata": {},
     "output_type": "execute_result"
    }
   ],
   "source": [
    "# Top 10 prescriptions by number of items \n",
    "london_data.groupby('BNF NAME')['ITEMS'].sum().sort_values(ascending=False).head(10)"
   ]
  },
  {
   "cell_type": "code",
   "execution_count": 59,
   "metadata": {},
   "outputs": [
    {
     "data": {
      "text/plain": [
       "BNF NAME\n",
       "Chloroth_Liq Spec 30mg/5ml                  1\n",
       "Chloroth_Liq Spec 200mg/5ml                 1\n",
       "Chloroquine/Proguanil_Tab 250/100mg         1\n",
       "Chloromycetin_Redidps 0.5%                  1\n",
       "Medline Bordered Gz 5cm x 7cm Adh Dress     1\n",
       "Chlorhex HCl_Crm 0.5%                       1\n",
       "Melatonin_Cap 4mg                           1\n",
       "Melatonin_Cap 8mg                           1\n",
       "Melgisorb 10cm x 20cm Wound Dress Algin     1\n",
       "varicase Class 2 Thigh Open Toe Slc Band    1\n",
       "Name: ITEMS, dtype: int64"
      ]
     },
     "execution_count": 59,
     "metadata": {},
     "output_type": "execute_result"
    }
   ],
   "source": [
    "# Bottom 10 prescriptions by number of items\n",
    "london_data.groupby('BNF NAME')['ITEMS'].sum().sort_values(ascending=False).tail(10)"
   ]
  },
  {
   "cell_type": "markdown",
   "metadata": {},
   "source": [
    "A number of non-drug items for the bottom 10 - could filter by BNF section to avoid this"
   ]
  },
  {
   "cell_type": "markdown",
   "metadata": {},
   "source": [
    "# Cambridge\n",
    "\n",
    "### Filter the df of all GPs using postcode\n",
    "https://digital.nhs.uk/services/organisation-data-service/data-downloads/gp-and-gp-practice-related-data"
   ]
  },
  {
   "cell_type": "code",
   "execution_count": 62,
   "metadata": {},
   "outputs": [
    {
     "name": "stdout",
     "output_type": "stream",
     "text": [
      "(17, 2)\n",
      "Total number of patients 191931\n"
     ]
    },
    {
     "data": {
      "text/html": [
       "<div>\n",
       "<style scoped>\n",
       "    .dataframe tbody tr th:only-of-type {\n",
       "        vertical-align: middle;\n",
       "    }\n",
       "\n",
       "    .dataframe tbody tr th {\n",
       "        vertical-align: top;\n",
       "    }\n",
       "\n",
       "    .dataframe thead th {\n",
       "        text-align: right;\n",
       "    }\n",
       "</style>\n",
       "<table border=\"1\" class=\"dataframe\">\n",
       "  <thead>\n",
       "    <tr style=\"text-align: right;\">\n",
       "      <th></th>\n",
       "      <th>CODE</th>\n",
       "      <th>NUMBER_OF_PATIENTS</th>\n",
       "    </tr>\n",
       "  </thead>\n",
       "  <tbody>\n",
       "    <tr>\n",
       "      <th>3148</th>\n",
       "      <td>Y00056</td>\n",
       "      <td>568</td>\n",
       "    </tr>\n",
       "  </tbody>\n",
       "</table>\n",
       "</div>"
      ],
      "text/plain": [
       "        CODE  NUMBER_OF_PATIENTS\n",
       "3148  Y00056                 568"
      ]
     },
     "execution_count": 62,
     "metadata": {},
     "output_type": "execute_result"
    }
   ],
   "source": [
    "cam_codes = ['CB1 ', 'CB2 ', 'CB3 ', 'CB4 ', 'CB5 '] # The space is necessary to avoid selecting e.g. CB21\n",
    "gp_df = gp_data[gp_data['POSTCODE'].str[:4].isin(cam_codes)]\n",
    "gp_df = gp_df[['CODE', 'NUMBER_OF_PATIENTS']].sort_values('NUMBER_OF_PATIENTS')\n",
    "print(gp_df.shape)\n",
    "print('Total number of patients', gp_df['NUMBER_OF_PATIENTS'].sum())\n",
    "gp_df.head(1)"
   ]
  },
  {
   "cell_type": "markdown",
   "metadata": {},
   "source": [
    "Note Y00056 is an access surgery for homeless people"
   ]
  },
  {
   "cell_type": "markdown",
   "metadata": {},
   "source": [
    "### Get a list of the GP codes for the GPs in Cambridge"
   ]
  },
  {
   "cell_type": "code",
   "execution_count": 63,
   "metadata": {},
   "outputs": [
    {
     "data": {
      "text/plain": [
       "17"
      ]
     },
     "execution_count": 63,
     "metadata": {},
     "output_type": "execute_result"
    }
   ],
   "source": [
    "gp_list = gp_df['CODE'].tolist()\n",
    "len(gp_list)"
   ]
  },
  {
   "cell_type": "markdown",
   "metadata": {},
   "source": [
    "## Now get data for all prescriptions in Cambridge"
   ]
  },
  {
   "cell_type": "code",
   "execution_count": 66,
   "metadata": {},
   "outputs": [
    {
     "name": "stdout",
     "output_type": "stream",
     "text": [
      "Number of prescriptions 160494\n",
      "Total cost of prescriptions, £ 1227048.96\n"
     ]
    },
    {
     "data": {
      "text/html": [
       "<div>\n",
       "<style scoped>\n",
       "    .dataframe tbody tr th:only-of-type {\n",
       "        vertical-align: middle;\n",
       "    }\n",
       "\n",
       "    .dataframe tbody tr th {\n",
       "        vertical-align: top;\n",
       "    }\n",
       "\n",
       "    .dataframe thead th {\n",
       "        text-align: right;\n",
       "    }\n",
       "</style>\n",
       "<table border=\"1\" class=\"dataframe\">\n",
       "  <thead>\n",
       "    <tr style=\"text-align: right;\">\n",
       "      <th></th>\n",
       "      <th>SHA</th>\n",
       "      <th>PCT</th>\n",
       "      <th>PRACTICE</th>\n",
       "      <th>BNF CODE</th>\n",
       "      <th>BNF NAME</th>\n",
       "      <th>ITEMS</th>\n",
       "      <th>NIC</th>\n",
       "      <th>ACT COST</th>\n",
       "      <th>QUANTITY</th>\n",
       "      <th>PERIOD</th>\n",
       "      <th></th>\n",
       "    </tr>\n",
       "  </thead>\n",
       "  <tbody>\n",
       "    <tr>\n",
       "      <th>4183977</th>\n",
       "      <td>Q56</td>\n",
       "      <td>06H</td>\n",
       "      <td>D81001</td>\n",
       "      <td>0101021B0AAAHAH</td>\n",
       "      <td>Alginate_Raft-Forming Oral Susp S/F</td>\n",
       "      <td>3</td>\n",
       "      <td>12.13</td>\n",
       "      <td>11.29</td>\n",
       "      <td>2300</td>\n",
       "      <td>201804</td>\n",
       "      <td></td>\n",
       "    </tr>\n",
       "  </tbody>\n",
       "</table>\n",
       "</div>"
      ],
      "text/plain": [
       "         SHA  PCT PRACTICE         BNF CODE  \\\n",
       "4183977  Q56  06H   D81001  0101021B0AAAHAH   \n",
       "\n",
       "                                         BNF NAME  ITEMS    NIC  ACT COST  \\\n",
       "4183977  Alginate_Raft-Forming Oral Susp S/F           3  12.13     11.29   \n",
       "\n",
       "         QUANTITY  PERIOD                      \n",
       "4183977      2300  201804                      "
      ]
     },
     "execution_count": 66,
     "metadata": {},
     "output_type": "execute_result"
    }
   ],
   "source": [
    "cam_data = data[data['PRACTICE'].isin(gp_list)]\n",
    "# Total number of items\n",
    "print('Number of prescriptions', cam_data['ITEMS'].sum())\n",
    "# Total cost of all prescriptions\n",
    "print('Total cost of prescriptions, £','%.2f' % cam_data['ACT COST'].sum())\n",
    "cam_data.head(1)"
   ]
  },
  {
   "cell_type": "markdown",
   "metadata": {},
   "source": [
    "### What are the top 10 most, and least, frequently prescribed items in Cambridge?"
   ]
  },
  {
   "cell_type": "code",
   "execution_count": 67,
   "metadata": {},
   "outputs": [
    {
     "name": "stdout",
     "output_type": "stream",
     "text": [
      "Most\n"
     ]
    },
    {
     "data": {
      "text/plain": [
       "BNF NAME\n",
       "Omeprazole_Cap E/C 20mg                     5063\n",
       "Atorvastatin_Tab 20mg                       3158\n",
       "Aspirin Disper_Tab 75mg                     2476\n",
       "Amlodipine_Tab 5mg                          2268\n",
       "Salbutamol_Inha 100mcg (200 D) CFF          2149\n",
       "Paracet_Tab 500mg                           2093\n",
       "Metformin HCl_Tab 500mg                     1907\n",
       "Folic Acid_Tab 5mg                          1816\n",
       "Amitriptyline HCl_Tab 10mg                  1703\n",
       "Levothyrox Sod_Tab 25mcg                    1657\n",
       "Name: ITEMS, dtype: int64"
      ]
     },
     "execution_count": 67,
     "metadata": {},
     "output_type": "execute_result"
    }
   ],
   "source": [
    "print('Most')\n",
    "cam_data.groupby('BNF NAME')['ITEMS'].sum().sort_values(ascending=False).head(10)"
   ]
  },
  {
   "cell_type": "code",
   "execution_count": 68,
   "metadata": {},
   "outputs": [
    {
     "name": "stdout",
     "output_type": "stream",
     "text": [
      "Least\n"
     ]
    },
    {
     "data": {
      "text/plain": [
       "BNF NAME\n",
       "Insight 2 Tube Holder Tracheo TH100         1\n",
       "Insupen Needles Pen Inj Screw On 4mm/33     1\n",
       "Intuniv_Tab 3mg M/R                         1\n",
       "Irbesartan/Hydchloroth_Tab 300mg/25mg       1\n",
       "IryCone+ Irrig System                       1\n",
       "Ismo 20_Tab 20mg                            1\n",
       "Isosorbide Dinit_Tab 10mg                   1\n",
       "Isosorbide Dinit_Tab 20mg                   1\n",
       "Isotard 40 XL_Tab 40mg                      1\n",
       "365 Strips Skin Closure Strips Ster Surg    1\n",
       "Name: ITEMS, dtype: int64"
      ]
     },
     "execution_count": 68,
     "metadata": {},
     "output_type": "execute_result"
    }
   ],
   "source": [
    "print('Least')\n",
    "cam_data.groupby('BNF NAME')['ITEMS'].sum().sort_values(ascending=False).tail(10)"
   ]
  },
  {
   "cell_type": "markdown",
   "metadata": {},
   "source": [
    "### Comparative plot - most frequently prescribed items in Cambridge\n",
    "### Individual practices vs. overall"
   ]
  },
  {
   "cell_type": "code",
   "execution_count": 151,
   "metadata": {},
   "outputs": [
    {
     "data": {
      "image/png": "[encoded data removed]",
      "text/plain": [
       "<Figure size 720x432 with 1 Axes>"
      ]
     },
     "metadata": {
      "needs_background": "light"
     },
     "output_type": "display_data"
    }
   ],
   "source": [
    "# https://matplotlib.org/tutorials/colors/colormaps.html\n",
    "\n",
    "top_10 = cam_data.groupby('BNF NAME')['ITEMS'].sum().sort_values(ascending=False).head(10)\n",
    "top_10 = top_10.to_frame().reset_index()['BNF NAME']\n",
    "type(top_10)\n",
    "\n",
    "drugs_df = pd.DataFrame()\n",
    "\n",
    "# df1 is all the data for each practice\n",
    "# Sort this by quantity of items for each practice\n",
    "# Get the top 10 names for each practice\n",
    "# df2 is true if each drug is in the top 10 for whole of Camb.\n",
    "# Name the column by it's practice\n",
    "# Concat this to the list for Camb.\n",
    "\n",
    "for practice in gp_list:\n",
    "    df1 = cam_data[cam_data['PRACTICE'] == practice]\\\n",
    "    [['BNF NAME', 'ITEMS']].sort_values('ITEMS', ascending=False)\\\n",
    "    ['BNF NAME'].head(10).to_frame().reset_index(drop=True)\n",
    "    df2 = top_10.isin(df1['BNF NAME']).to_frame()                               \n",
    "    df2.rename(columns = {'BNF NAME':practice}, inplace = True)                 \n",
    "    drugs_df = pd.concat([drugs_df, df2], axis=1)                               \n",
    "    \n",
    "drugs_df = drugs_df.iloc[::-1]\n",
    "\n",
    "# Reverse list so right way up (0 index at bottom) and remove white space to line up nicely\n",
    "rev_top_10=top_10.iloc[::-1].apply(str.strip) \n",
    "\n",
    "plt.figure(figsize=(10, 6))\n",
    "plt.subplot(1, 1, 1)\n",
    "\n",
    "plt.pcolor(drugs_df, cmap='Pastel1')\n",
    "\n",
    "ylocs=np.arange(0.5, 10, 1) \n",
    "plt.yticks(ylocs, rev_top_10)\n",
    "xlocs=np.arange(0.5, 17, 1) \n",
    "plt.xticks(xlocs, drugs_df.columns.values, rotation=80)\n",
    "\n",
    "plt.title('A heat map showing the ten most common items prescribed for Cambridge as whole \\n'\n",
    "         'and, for each of the GP practices in Cambridge, \\n'\n",
    "         'whether they are also in the top 10 for that practice\\n'\n",
    "         'Grey = also in top ten for that practice \\n'\n",
    "         'Pink = not in the top ten for that practice')\n",
    "plt.xlabel('Codes for practices, in order from fewest patients registered (left), to most (right)')\n",
    "plt.ylabel('Top 10 items all Cambridge, from most common (top), to least')\n",
    "plt.tight_layout\n",
    "plt.savefig('cam_gp_comp.png', bbox_inches='tight')\n",
    "plt.show()"
   ]
  },
  {
   "cell_type": "markdown",
   "metadata": {},
   "source": [
    "### What is the drug that each surgery spends most money on?"
   ]
  },
  {
   "cell_type": "code",
   "execution_count": 152,
   "metadata": {},
   "outputs": [
    {
     "data": {
      "text/html": [
       "<div>\n",
       "<style scoped>\n",
       "    .dataframe tbody tr th:only-of-type {\n",
       "        vertical-align: middle;\n",
       "    }\n",
       "\n",
       "    .dataframe tbody tr th {\n",
       "        vertical-align: top;\n",
       "    }\n",
       "\n",
       "    .dataframe thead th {\n",
       "        text-align: right;\n",
       "    }\n",
       "</style>\n",
       "<table border=\"1\" class=\"dataframe\">\n",
       "  <thead>\n",
       "    <tr style=\"text-align: right;\">\n",
       "      <th></th>\n",
       "      <th>PRACTICE</th>\n",
       "      <th>BNF CODE</th>\n",
       "      <th>BNF NAME</th>\n",
       "      <th>ACT COST</th>\n",
       "      <th>QUANTITY</th>\n",
       "    </tr>\n",
       "  </thead>\n",
       "  <tbody>\n",
       "    <tr>\n",
       "      <th>4184192</th>\n",
       "      <td>D81001</td>\n",
       "      <td>0208020Y0AAACAC</td>\n",
       "      <td>Rivaroxaban_Tab 20mg</td>\n",
       "      <td>1800.42</td>\n",
       "      <td>1078</td>\n",
       "    </tr>\n",
       "    <tr>\n",
       "      <th>4185493</th>\n",
       "      <td>D81002</td>\n",
       "      <td>0208020Y0AAACAC</td>\n",
       "      <td>Rivaroxaban_Tab 20mg</td>\n",
       "      <td>3660.26</td>\n",
       "      <td>2191</td>\n",
       "    </tr>\n",
       "    <tr>\n",
       "      <th>4186969</th>\n",
       "      <td>D81003</td>\n",
       "      <td>0208020Y0AAACAC</td>\n",
       "      <td>Rivaroxaban_Tab 20mg</td>\n",
       "      <td>1803.16</td>\n",
       "      <td>1078</td>\n",
       "    </tr>\n",
       "    <tr>\n",
       "      <th>4189976</th>\n",
       "      <td>D81005</td>\n",
       "      <td>0208020Y0AAACAC</td>\n",
       "      <td>Rivaroxaban_Tab 20mg</td>\n",
       "      <td>2164.45</td>\n",
       "      <td>1295</td>\n",
       "    </tr>\n",
       "    <tr>\n",
       "      <th>4200520</th>\n",
       "      <td>D81012</td>\n",
       "      <td>0302000C0BQAABX</td>\n",
       "      <td>Fostair_Inh 100mcg/6mcg (120D) CFF</td>\n",
       "      <td>2339.33</td>\n",
       "      <td>86</td>\n",
       "    </tr>\n",
       "    <tr>\n",
       "      <th>4202055</th>\n",
       "      <td>D81013</td>\n",
       "      <td>0302000C0BQAABX</td>\n",
       "      <td>Fostair_Inh 100mcg/6mcg (120D) CFF</td>\n",
       "      <td>2420.76</td>\n",
       "      <td>89</td>\n",
       "    </tr>\n",
       "    <tr>\n",
       "      <th>4206868</th>\n",
       "      <td>D81016</td>\n",
       "      <td>0302000C0BQAABX</td>\n",
       "      <td>Fostair_Inh 100mcg/6mcg (120D) CFF</td>\n",
       "      <td>3536.01</td>\n",
       "      <td>130</td>\n",
       "    </tr>\n",
       "    <tr>\n",
       "      <th>4208228</th>\n",
       "      <td>D81017</td>\n",
       "      <td>0208020Y0AAACAC</td>\n",
       "      <td>Rivaroxaban_Tab 20mg</td>\n",
       "      <td>1145.54</td>\n",
       "      <td>686</td>\n",
       "    </tr>\n",
       "    <tr>\n",
       "      <th>4220557</th>\n",
       "      <td>D81025</td>\n",
       "      <td>0302000C0BQAABX</td>\n",
       "      <td>Fostair_Inh 100mcg/6mcg (120D) CFF</td>\n",
       "      <td>2176.15</td>\n",
       "      <td>80</td>\n",
       "    </tr>\n",
       "    <tr>\n",
       "      <th>4240053</th>\n",
       "      <td>D81037</td>\n",
       "      <td>0208020Y0AAACAC</td>\n",
       "      <td>Rivaroxaban_Tab 20mg</td>\n",
       "      <td>1495.89</td>\n",
       "      <td>896</td>\n",
       "    </tr>\n",
       "    <tr>\n",
       "      <th>4249515</th>\n",
       "      <td>D81044</td>\n",
       "      <td>0302000C0BQAABX</td>\n",
       "      <td>Fostair_Inh 100mcg/6mcg (120D) CFF</td>\n",
       "      <td>4759.78</td>\n",
       "      <td>175</td>\n",
       "    </tr>\n",
       "    <tr>\n",
       "      <th>4262658</th>\n",
       "      <td>D81054</td>\n",
       "      <td>0208020Y0AAACAC</td>\n",
       "      <td>Rivaroxaban_Tab 20mg</td>\n",
       "      <td>1881.70</td>\n",
       "      <td>1127</td>\n",
       "    </tr>\n",
       "    <tr>\n",
       "      <th>4265521</th>\n",
       "      <td>D81056</td>\n",
       "      <td>0302000C0BQAABX</td>\n",
       "      <td>Fostair_Inh 100mcg/6mcg (120D) CFF</td>\n",
       "      <td>1060.80</td>\n",
       "      <td>39</td>\n",
       "    </tr>\n",
       "    <tr>\n",
       "      <th>4279374</th>\n",
       "      <td>D81066</td>\n",
       "      <td>0208020Y0AAACAC</td>\n",
       "      <td>Rivaroxaban_Tab 20mg</td>\n",
       "      <td>1589.45</td>\n",
       "      <td>952</td>\n",
       "    </tr>\n",
       "    <tr>\n",
       "      <th>4280590</th>\n",
       "      <td>D81070</td>\n",
       "      <td>0208020Y0AAACAC</td>\n",
       "      <td>Rivaroxaban_Tab 20mg</td>\n",
       "      <td>946.77</td>\n",
       "      <td>567</td>\n",
       "    </tr>\n",
       "    <tr>\n",
       "      <th>4289643</th>\n",
       "      <td>D81086</td>\n",
       "      <td>0302000C0BQAABX</td>\n",
       "      <td>Fostair_Inh 100mcg/6mcg (120D) CFF</td>\n",
       "      <td>2121.76</td>\n",
       "      <td>78</td>\n",
       "    </tr>\n",
       "    <tr>\n",
       "      <th>4322428</th>\n",
       "      <td>Y00056</td>\n",
       "      <td>0402020ABAAADAD</td>\n",
       "      <td>Paliperidone_Inj 150mg/1.5ml Pfs</td>\n",
       "      <td>364.10</td>\n",
       "      <td>1</td>\n",
       "    </tr>\n",
       "  </tbody>\n",
       "</table>\n",
       "</div>"
      ],
      "text/plain": [
       "        PRACTICE         BNF CODE                                  BNF NAME  \\\n",
       "4184192   D81001  0208020Y0AAACAC  Rivaroxaban_Tab 20mg                       \n",
       "4185493   D81002  0208020Y0AAACAC  Rivaroxaban_Tab 20mg                       \n",
       "4186969   D81003  0208020Y0AAACAC  Rivaroxaban_Tab 20mg                       \n",
       "4189976   D81005  0208020Y0AAACAC  Rivaroxaban_Tab 20mg                       \n",
       "4200520   D81012  0302000C0BQAABX  Fostair_Inh 100mcg/6mcg (120D) CFF         \n",
       "4202055   D81013  0302000C0BQAABX  Fostair_Inh 100mcg/6mcg (120D) CFF         \n",
       "4206868   D81016  0302000C0BQAABX  Fostair_Inh 100mcg/6mcg (120D) CFF         \n",
       "4208228   D81017  0208020Y0AAACAC  Rivaroxaban_Tab 20mg                       \n",
       "4220557   D81025  0302000C0BQAABX  Fostair_Inh 100mcg/6mcg (120D) CFF         \n",
       "4240053   D81037  0208020Y0AAACAC  Rivaroxaban_Tab 20mg                       \n",
       "4249515   D81044  0302000C0BQAABX  Fostair_Inh 100mcg/6mcg (120D) CFF         \n",
       "4262658   D81054  0208020Y0AAACAC  Rivaroxaban_Tab 20mg                       \n",
       "4265521   D81056  0302000C0BQAABX  Fostair_Inh 100mcg/6mcg (120D) CFF         \n",
       "4279374   D81066  0208020Y0AAACAC  Rivaroxaban_Tab 20mg                       \n",
       "4280590   D81070  0208020Y0AAACAC  Rivaroxaban_Tab 20mg                       \n",
       "4289643   D81086  0302000C0BQAABX  Fostair_Inh 100mcg/6mcg (120D) CFF         \n",
       "4322428   Y00056  0402020ABAAADAD  Paliperidone_Inj 150mg/1.5ml Pfs           \n",
       "\n",
       "         ACT COST  QUANTITY  \n",
       "4184192   1800.42      1078  \n",
       "4185493   3660.26      2191  \n",
       "4186969   1803.16      1078  \n",
       "4189976   2164.45      1295  \n",
       "4200520   2339.33        86  \n",
       "4202055   2420.76        89  \n",
       "4206868   3536.01       130  \n",
       "4208228   1145.54       686  \n",
       "4220557   2176.15        80  \n",
       "4240053   1495.89       896  \n",
       "4249515   4759.78       175  \n",
       "4262658   1881.70      1127  \n",
       "4265521   1060.80        39  \n",
       "4279374   1589.45       952  \n",
       "4280590    946.77       567  \n",
       "4289643   2121.76        78  \n",
       "4322428    364.10         1  "
      ]
     },
     "execution_count": 152,
     "metadata": {},
     "output_type": "execute_result"
    }
   ],
   "source": [
    "cam_data.loc[cam_data.groupby('PRACTICE')['ACT COST'].idxmax(), ['PRACTICE', 'BNF CODE', 'BNF NAME', 'ACT COST', 'QUANTITY']]"
   ]
  },
  {
   "cell_type": "markdown",
   "metadata": {},
   "source": [
    "### Does every GP pay the same for a drug?"
   ]
  },
  {
   "cell_type": "code",
   "execution_count": 153,
   "metadata": {},
   "outputs": [
    {
     "data": {
      "image/png": "[encoded data removed]",
      "text/plain": [
       "<Figure size 432x288 with 1 Axes>"
      ]
     },
     "metadata": {
      "needs_background": "light"
     },
     "output_type": "display_data"
    }
   ],
   "source": [
    "test = cam_data.loc[data['BNF CODE'] == '0208020Y0AAACAC'].copy() # Rivaroxaban_Tab 20mg\n",
    "\n",
    "test['cost_per_quan'] = test['ACT COST'] / test['QUANTITY']\n",
    "\n",
    "x = test['QUANTITY']\n",
    "y = test['cost_per_quan']\n",
    "\n",
    "plt.scatter(x, y)\n",
    "plt.show()"
   ]
  },
  {
   "cell_type": "markdown",
   "metadata": {},
   "source": [
    "# All practices\n",
    "## Total spending for each practice"
   ]
  },
  {
   "cell_type": "code",
   "execution_count": 4,
   "metadata": {},
   "outputs": [
    {
     "name": "stdout",
     "output_type": "stream",
     "text": [
      "(9578, 3) \n",
      "\n",
      "count      9578.000000\n",
      "mean      67152.577803\n",
      "std       63070.800123\n",
      "min           0.210000\n",
      "25%       14214.367500\n",
      "50%       55519.555000\n",
      "75%      102669.520000\n",
      "max      842838.180000\n",
      "Name: ACT COST, dtype: float64 \n",
      "\n",
      "Practice with highest absolute cost\n"
     ]
    },
    {
     "data": {
      "text/html": [
       "<div>\n",
       "<style scoped>\n",
       "    .dataframe tbody tr th:only-of-type {\n",
       "        vertical-align: middle;\n",
       "    }\n",
       "\n",
       "    .dataframe tbody tr th {\n",
       "        vertical-align: top;\n",
       "    }\n",
       "\n",
       "    .dataframe thead th {\n",
       "        text-align: right;\n",
       "    }\n",
       "</style>\n",
       "<table border=\"1\" class=\"dataframe\">\n",
       "  <thead>\n",
       "    <tr style=\"text-align: right;\">\n",
       "      <th></th>\n",
       "      <th>PRACTICE</th>\n",
       "      <th>ITEMS</th>\n",
       "      <th>ACT COST</th>\n",
       "    </tr>\n",
       "  </thead>\n",
       "  <tbody>\n",
       "    <tr>\n",
       "      <th>5580</th>\n",
       "      <td>M85063</td>\n",
       "      <td>97782</td>\n",
       "      <td>842838.18</td>\n",
       "    </tr>\n",
       "  </tbody>\n",
       "</table>\n",
       "</div>"
      ],
      "text/plain": [
       "     PRACTICE  ITEMS   ACT COST\n",
       "5580   M85063  97782  842838.18"
      ]
     },
     "execution_count": 4,
     "metadata": {},
     "output_type": "execute_result"
    }
   ],
   "source": [
    "prct_cost = data.groupby(['PRACTICE'])['ITEMS','ACT COST'].sum().reset_index()\n",
    "print(prct_cost.shape,\"\\n\")\n",
    "print(prct_cost['ACT COST'].describe(),\"\\n\")\n",
    "print('Practice with highest absolute cost')\n",
    "prct_cost.sort_values('ACT COST', ascending = False).head(1)"
   ]
  },
  {
   "cell_type": "code",
   "execution_count": 5,
   "metadata": {},
   "outputs": [
    {
     "data": {
      "image/png": "[encoded data removed]",
      "text/plain": [
       "<Figure size 432x432 with 1 Axes>"
      ]
     },
     "metadata": {
      "needs_background": "light"
     },
     "output_type": "display_data"
    }
   ],
   "source": [
    "prct_tot = prct_cost.sort_values('ACT COST')['ACT COST']\n",
    "\n",
    "fig = plt.figure(figsize=(6, 6))\n",
    "ax = plt.gca()\n",
    "ax.scatter(range(len(prct_tot)), prct_tot)\n",
    "\n",
    "plt.tick_params(\n",
    "    axis='x',          # changes apply to the x-axis\n",
    "    which='both',      # both major and minor ticks are affected\n",
    "    bottom=False,      # ticks along the bottom edge are off\n",
    "    top=False,         # ticks along the top edge are off\n",
    "    labelbottom=False) # labels along the bottom edge are off\n",
    "\n",
    "plt.yticks([200000, 400000, 600000, 800000], ['200', '400', '600', '800'])\n",
    "plt.ylabel('Actual cost in £000')\n",
    "plt.xlabel('9578 practices ranked from lowest actual cost to highest')\n",
    "plt.title('Plot of the actual cost of 9578 practices')\n",
    "plt.savefig('all_act_cost.png')\n",
    "plt.show()"
   ]
  },
  {
   "cell_type": "markdown",
   "metadata": {},
   "source": [
    "# Spending per patient\n",
    "### Merge spending by practice with number of patients per practice"
   ]
  },
  {
   "cell_type": "code",
   "execution_count": 6,
   "metadata": {},
   "outputs": [
    {
     "name": "stdout",
     "output_type": "stream",
     "text": [
      "PRACTICE                 0\n",
      "ITEMS                    0\n",
      "ACT COST                 0\n",
      "PUBLICATION           2387\n",
      "EXTRACT_DATE          2387\n",
      "TYPE                  2387\n",
      "CCG_CODE              2387\n",
      "ONS_CCG_CODE          2387\n",
      "CODE                  2387\n",
      "POSTCODE              2387\n",
      "SEX                   2387\n",
      "AGE                   2387\n",
      "NUMBER_OF_PATIENTS    2387\n",
      "per_patient           2387\n",
      "dtype: int64\n",
      "\n",
      "count    7191.000000\n",
      "mean       11.606497\n",
      "std        38.868946\n",
      "min         0.001724\n",
      "25%         8.875578\n",
      "50%        10.914659\n",
      "75%        12.690038\n",
      "max      2830.020000\n",
      "Name: per_patient, dtype: float64\n",
      "\n",
      "Skew  61.28546419650978\n",
      "Kurtosis  4124.160299840336\n"
     ]
    }
   ],
   "source": [
    "test = pd.merge(prct_cost, gp_data, how='left', left_on='PRACTICE', right_on='CODE')\n",
    "test['per_patient'] = test['ACT COST'] / test['NUMBER_OF_PATIENTS']\n",
    "print(test.isnull().sum())\n",
    "print()\n",
    "print(test['per_patient'].describe())\n",
    "print()\n",
    "print('Skew ', test['per_patient'].skew())\n",
    "print('Kurtosis ', test['per_patient'].kurtosis())"
   ]
  },
  {
   "cell_type": "markdown",
   "metadata": {},
   "source": [
    "So, there are 2387 practices where we have prescription costs but no practice data, this is a significant proportion (almost exactly 0.25)"
   ]
  },
  {
   "cell_type": "markdown",
   "metadata": {},
   "source": [
    "## Two groups 'nt_mss' and 'missing'"
   ]
  },
  {
   "cell_type": "code",
   "execution_count": 7,
   "metadata": {},
   "outputs": [
    {
     "name": "stdout",
     "output_type": "stream",
     "text": [
      "All: (9578, 3)\n",
      "Not missing data: (7191, 13)\n",
      "Missing data: (2387, 3)\n"
     ]
    }
   ],
   "source": [
    "# prct_cost is actual cost of all practices from the prescribing data\n",
    "# gp_data is the practices we have data on number of registered patients\n",
    "nt_mss = pd.merge(prct_cost, gp_data, how='inner', left_on='PRACTICE', right_on='CODE')\n",
    "common = nt_mss['PRACTICE']\n",
    "missing = prct_cost[~prct_cost['PRACTICE'].isin(common)]\n",
    "print('All:', prct_cost.shape)\n",
    "print('Not missing data:', nt_mss.shape)\n",
    "print('Missing data:', missing.shape)"
   ]
  },
  {
   "cell_type": "markdown",
   "metadata": {},
   "source": [
    "### Is there a difference between the practices that we have practice data for and those we don't?\n",
    "### Costs"
   ]
  },
  {
   "cell_type": "code",
   "execution_count": 90,
   "metadata": {},
   "outputs": [
    {
     "data": {
      "image/png": "[encoded data removed]",
      "text/plain": [
       "<Figure size 720x720 with 1 Axes>"
      ]
     },
     "metadata": {
      "needs_background": "light"
     },
     "output_type": "display_data"
    }
   ],
   "source": [
    "fig = plt.figure(figsize=(10, 10))\n",
    "ax = plt.gca()\n",
    "\n",
    "to_plot_mi = missing['ACT COST'].sort_values()\n",
    "to_plot_nt = nt_mss['ACT COST'].sort_values()\n",
    "# mult_factor = int(len(to_plot_nt) / len(to_plot_mi))\n",
    "x_nums1 = range(0, 7161, 3)\n",
    "x_nums2 = range(0, 7191)\n",
    "\n",
    "#print(len(x_nums1))\n",
    "#print(len(to_plot_mi))\n",
    "#print(len(x_nums2))\n",
    "#print(len(to_plot_nt))\n",
    "\n",
    "ax.scatter(x_nums1, to_plot_mi)\n",
    "ax.scatter(x_nums2, to_plot_nt)\n",
    "\n",
    "plt.tick_params(\n",
    "    axis='x',          # changes apply to the x-axis\n",
    "    which='both',      # both major and minor ticks are affected\n",
    "    bottom=False,      # ticks along the bottom edge are off\n",
    "    top=False,         # ticks along the top edge are off\n",
    "    labelbottom=False) # labels along the bottom edge are off\n",
    "\n",
    "plt.xlabel('Plot of the actual costs of two groups of practices, \\n'\n",
    "           'sorted smallest to largest for each group, and spaced to cover the same length on the x-axis')\n",
    "plt.ylabel('Actual cost, log scale')\n",
    "plt.title('Practices sorted from highest to lowest cost for each group, \\n'\n",
    "          'those with practice data present (orange) or missing (blue)')\n",
    "ax.set_yscale('log')\n",
    "\n",
    "plt.savefig('plot_all_missing_nt_mss_act_cost.png')\n",
    "plt.show()"
   ]
  },
  {
   "cell_type": "markdown",
   "metadata": {},
   "source": [
    "If they were missing completely at random, I would expect these curves to overlap"
   ]
  },
  {
   "cell_type": "code",
   "execution_count": 115,
   "metadata": {},
   "outputs": [
    {
     "data": {
      "image/png": "[encoded data removed]",
      "text/plain": [
       "<Figure size 360x360 with 1 Axes>"
      ]
     },
     "metadata": {
      "needs_background": "light"
     },
     "output_type": "display_data"
    }
   ],
   "source": [
    "fig = plt.figure(figsize=(5,5))\n",
    "ax = plt.gca()\n",
    "\n",
    "ax.boxplot([missing['ACT COST'], nt_mss['ACT COST']], notch=True, showfliers=False)\n",
    "\n",
    "plt.yticks([50000, 100000, 150000, 200000], ['50', '100', '150', '200'])\n",
    "plt.ylabel('Actual cost in £000s')\n",
    "plt.xticks([1, 2], ['Missing data', 'Not missing'])\n",
    "plt.title('Boxplot of the costs of two groups of practices')\n",
    "\n",
    "plt.savefig('box_all_missing_nt_mss_act_cost.png')\n",
    "plt.show()"
   ]
  },
  {
   "cell_type": "code",
   "execution_count": 92,
   "metadata": {},
   "outputs": [
    {
     "name": "stdout",
     "output_type": "stream",
     "text": [
      "Missing count      2387.000000\n",
      "mean       4821.965563\n",
      "std       15895.936129\n",
      "min           0.210000\n",
      "25%          94.865000\n",
      "50%         697.050000\n",
      "75%        3562.525000\n",
      "max      433315.580000\n",
      "Name: ACT COST, dtype: float64\n",
      "\n",
      "Not missing count      7191.000000\n",
      "mean      87842.769907\n",
      "std       59133.286587\n",
      "min           3.250000\n",
      "25%       45118.630000\n",
      "50%       76206.840000\n",
      "75%      117871.110000\n",
      "max      842838.180000\n",
      "Name: ACT COST, dtype: float64\n"
     ]
    }
   ],
   "source": [
    "# Describe the groups costs\n",
    "print('Missing', missing['ACT COST'].describe())\n",
    "print()\n",
    "print('Not missing', nt_mss['ACT COST'].describe())"
   ]
  },
  {
   "cell_type": "markdown",
   "metadata": {},
   "source": [
    "NB Check statistical test to see if drawn from different populations\n",
    "\n",
    "Practices we are missing data for appear to have much smaller actual costs and therefore possibly smaller in terms of numbers of patients.\n",
    "\n",
    "Very big assumption - the per patient cost of the missing and not missing practices is the same, and therefore the number of patients in the missing ones can be determined using the ratio between the actual cost of the missing and not missing surgeries as a proportion of the numbers of patients in those we do have data for."
   ]
  },
  {
   "cell_type": "code",
   "execution_count": 94,
   "metadata": {},
   "outputs": [
    {
     "data": {
      "text/plain": [
       "NUMBER_OF_PATIENTS    447.571995\n",
       "dtype: float64"
      ]
     },
     "execution_count": 94,
     "metadata": {},
     "output_type": "execute_result"
    }
   ],
   "source": [
    "gp_data.mean() * (missing['ACT COST'].mean() / nt_mss['ACT COST'].mean())"
   ]
  },
  {
   "cell_type": "markdown",
   "metadata": {},
   "source": [
    "So if proportionate (big assumption, and probably not valid), we don't have data on 25% of practices who may have 447 patients as against 8153 average.\n",
    "\n",
    "Prescribing data is 'all practices in England'.\n",
    "\n",
    "Are there different numbers missing from different SHA areas?"
   ]
  },
  {
   "cell_type": "code",
   "execution_count": 96,
   "metadata": {},
   "outputs": [
    {
     "data": {
      "text/plain": [
       "SHA\n",
       "Q44    223\n",
       "Q45    235\n",
       "Q46    604\n",
       "Q47    312\n",
       "Q48    285\n",
       "dtype: int64"
      ]
     },
     "execution_count": 96,
     "metadata": {},
     "output_type": "execute_result"
    }
   ],
   "source": [
    "# Numbers of practices in each SHA area from prescribing data\n",
    "check_all = data[['SHA', 'PRACTICE']]\n",
    "check_all = check_all.groupby(['SHA','PRACTICE']).size()\n",
    "# test = test[['SHA', 'PRACTICE']]\n",
    "check_all = check_all.to_frame().reset_index()[['SHA', 'PRACTICE']]\n",
    "check_all = check_all.groupby('SHA').size()\n",
    "check_all.head()"
   ]
  },
  {
   "cell_type": "code",
   "execution_count": 97,
   "metadata": {},
   "outputs": [
    {
     "name": "stdout",
     "output_type": "stream",
     "text": [
      "(209168, 2)\n"
     ]
    },
    {
     "data": {
      "text/plain": [
       "SHA\n",
       "Q44     57\n",
       "Q45     83\n",
       "Q46    139\n",
       "Q47     79\n",
       "Q48     71\n",
       "dtype: int64"
      ]
     },
     "execution_count": 97,
     "metadata": {},
     "output_type": "execute_result"
    }
   ],
   "source": [
    "# Numbers of practices in each SHA area that we do not have data on patient numbers\n",
    "check_miss = data[~data['PRACTICE'].isin(common)][['SHA', 'PRACTICE']]\n",
    "print(check_miss.shape)\n",
    "check_miss = check_miss.groupby(['SHA','PRACTICE']).size()\n",
    "check_miss = check_miss.to_frame().reset_index()[['SHA', 'PRACTICE']]\n",
    "check_miss = check_miss.groupby('SHA').size()\n",
    "check_miss.head()"
   ]
  },
  {
   "cell_type": "markdown",
   "metadata": {},
   "source": [
    "Have prescribing data for, but not listed as a GP surgery\n",
    "N81017 = Princeway Frodsham Medical Centre, Frodsham, WA6 6RX\n",
    "http://www.therocksurgery.co.uk/\n",
    "\n",
    "Is listed as a GP surgery\n",
    "N81030 = Princeway Surgeries, Princeway Health Centre, Frodsham, WA6 6RX\n",
    "www.theknollsurgery.co.uk/\n",
    "\n",
    "https://www.datadictionary.nhs.uk/version2/web_site_content/pages/codes/clinical_coding/medical__amp__dental_practice_codes.asp?shownav=1\n",
    "\n",
    "https://www.gp-patient.co.uk/\n",
    "\n",
    "N81631 - no data\n",
    "Y03746 - no data\n",
    "Y05595 - no data\n",
    "Y05563 - no data\n",
    "Y03342 - no data\n",
    "\n",
    "https://www.independent.co.uk/news/health/nhs-gp-practice-surgery-closure-uk-doctor-shortage-appointments-a8374916.html\n"
   ]
  },
  {
   "cell_type": "markdown",
   "metadata": {},
   "source": [
    "### Proportion missing from each SHA"
   ]
  },
  {
   "cell_type": "code",
   "execution_count": 98,
   "metadata": {},
   "outputs": [
    {
     "data": {
      "text/plain": [
       "SHA\n",
       "Q44    0.255605\n",
       "Q45    0.353191\n",
       "Q46    0.230132\n",
       "Q47    0.253205\n",
       "Q48    0.249123\n",
       "Q49    0.248428\n",
       "Q50    0.321918\n",
       "Q51    0.179167\n",
       "Q52    0.306843\n",
       "Q53    0.358601\n",
       "Q54    0.245810\n",
       "Q55    0.244118\n",
       "Q56    0.225352\n",
       "Q57    0.236760\n",
       "Q58    0.203704\n",
       "Q59    0.169065\n",
       "Q60    0.249123\n",
       "Q61    0.191388\n",
       "Q62    0.167785\n",
       "Q63    0.269565\n",
       "Q64    0.354839\n",
       "Q65    0.210784\n",
       "Q66    0.276364\n",
       "Q67    0.262821\n",
       "Q68    0.322940\n",
       "Q69    0.218638\n",
       "Q70    0.174699\n",
       "dtype: float64"
      ]
     },
     "execution_count": 98,
     "metadata": {},
     "output_type": "execute_result"
    }
   ],
   "source": [
    "check_miss/check_all"
   ]
  },
  {
   "cell_type": "markdown",
   "metadata": {},
   "source": [
    "So there seems to be a difference around the country, but not very extreme\n",
    "\n",
    "London = Q61, 62, 63"
   ]
  },
  {
   "cell_type": "markdown",
   "metadata": {},
   "source": [
    "## Plot spending per patient against number of patients\n",
    "### Are there economies of scale?"
   ]
  },
  {
   "cell_type": "code",
   "execution_count": 8,
   "metadata": {},
   "outputs": [],
   "source": [
    "# Get per patient costs for those not missing data\n",
    "nt_mss['per_patient'] = nt_mss['ACT COST'] / nt_mss['NUMBER_OF_PATIENTS']"
   ]
  },
  {
   "cell_type": "code",
   "execution_count": 9,
   "metadata": {},
   "outputs": [
    {
     "data": {
      "image/png": "[encoded data removed]",
      "text/plain": [
       "<Figure size 504x504 with 1 Axes>"
      ]
     },
     "metadata": {
      "needs_background": "light"
     },
     "output_type": "display_data"
    }
   ],
   "source": [
    "plt.figure(figsize=(7, 7))\n",
    "\n",
    "plt.subplot(1, 1, 1)\n",
    "\n",
    "x = nt_mss['NUMBER_OF_PATIENTS']\n",
    "y = nt_mss['per_patient']\n",
    "plt.scatter(x, y)\n",
    "\n",
    "plt.xlabel('Number of patients registered')\n",
    "plt.ylabel('Per patient cost of prescriptions')\n",
    "plt.title('Scatter plot of per patient cost of prescriptions vs. \\n'\n",
    "          'number of patients registered at a practice')\n",
    "plt.savefig('plot_all_act_cost_pat_nums.png')\n",
    "plt.show()"
   ]
  },
  {
   "cell_type": "code",
   "execution_count": 10,
   "metadata": {},
   "outputs": [
    {
     "name": "stdout",
     "output_type": "stream",
     "text": [
      "Per patient costs\n"
     ]
    },
    {
     "data": {
      "text/plain": [
       "count    7191.000000\n",
       "mean       11.606497\n",
       "std        38.868946\n",
       "min         0.001724\n",
       "25%         8.875578\n",
       "50%        10.914659\n",
       "75%        12.690038\n",
       "max      2830.020000\n",
       "Name: per_patient, dtype: float64"
      ]
     },
     "execution_count": 10,
     "metadata": {},
     "output_type": "execute_result"
    }
   ],
   "source": [
    "print('Per patient costs')\n",
    "nt_mss['per_patient'].describe()"
   ]
  },
  {
   "cell_type": "markdown",
   "metadata": {},
   "source": [
    "## Extreme outliers"
   ]
  },
  {
   "cell_type": "markdown",
   "metadata": {},
   "source": [
    "#### Highest cost per patient"
   ]
  },
  {
   "cell_type": "code",
   "execution_count": 101,
   "metadata": {},
   "outputs": [
    {
     "data": {
      "text/html": [
       "<div>\n",
       "<style scoped>\n",
       "    .dataframe tbody tr th:only-of-type {\n",
       "        vertical-align: middle;\n",
       "    }\n",
       "\n",
       "    .dataframe tbody tr th {\n",
       "        vertical-align: top;\n",
       "    }\n",
       "\n",
       "    .dataframe thead th {\n",
       "        text-align: right;\n",
       "    }\n",
       "</style>\n",
       "<table border=\"1\" class=\"dataframe\">\n",
       "  <thead>\n",
       "    <tr style=\"text-align: right;\">\n",
       "      <th></th>\n",
       "      <th>PRACTICE</th>\n",
       "      <th>ITEMS</th>\n",
       "      <th>ACT COST</th>\n",
       "      <th>PUBLICATION</th>\n",
       "      <th>EXTRACT_DATE</th>\n",
       "      <th>TYPE</th>\n",
       "      <th>CCG_CODE</th>\n",
       "      <th>ONS_CCG_CODE</th>\n",
       "      <th>CODE</th>\n",
       "      <th>POSTCODE</th>\n",
       "      <th>SEX</th>\n",
       "      <th>AGE</th>\n",
       "      <th>NUMBER_OF_PATIENTS</th>\n",
       "      <th>per_patient</th>\n",
       "    </tr>\n",
       "  </thead>\n",
       "  <tbody>\n",
       "    <tr>\n",
       "      <th>6983</th>\n",
       "      <td>Y02045</td>\n",
       "      <td>1054</td>\n",
       "      <td>22640.16</td>\n",
       "      <td>GP_PRAC_PAT_LIST</td>\n",
       "      <td>01APR2018</td>\n",
       "      <td>GP</td>\n",
       "      <td>01C</td>\n",
       "      <td>E38000056</td>\n",
       "      <td>Y02045</td>\n",
       "      <td>SK11 6JL</td>\n",
       "      <td>ALL</td>\n",
       "      <td>ALL</td>\n",
       "      <td>8</td>\n",
       "      <td>2830.02</td>\n",
       "    </tr>\n",
       "  </tbody>\n",
       "</table>\n",
       "</div>"
      ],
      "text/plain": [
       "     PRACTICE  ITEMS  ACT COST       PUBLICATION EXTRACT_DATE TYPE CCG_CODE  \\\n",
       "6983   Y02045   1054  22640.16  GP_PRAC_PAT_LIST    01APR2018   GP      01C   \n",
       "\n",
       "     ONS_CCG_CODE    CODE  POSTCODE  SEX  AGE  NUMBER_OF_PATIENTS  per_patient  \n",
       "6983    E38000056  Y02045  SK11 6JL  ALL  ALL                   8      2830.02  "
      ]
     },
     "execution_count": 101,
     "metadata": {},
     "output_type": "execute_result"
    }
   ],
   "source": [
    "# Most money per patient - from review of plot above\n",
    "nt_mss[nt_mss['per_patient'] > 2500]"
   ]
  },
  {
   "cell_type": "markdown",
   "metadata": {},
   "source": [
    "Y02045 = http://www.vernovahealthcare.org/"
   ]
  },
  {
   "cell_type": "markdown",
   "metadata": {},
   "source": [
    "#### Lowest cost per patient"
   ]
  },
  {
   "cell_type": "code",
   "execution_count": 114,
   "metadata": {},
   "outputs": [
    {
     "data": {
      "text/plain": [
       "PRACTICE                        L81080\n",
       "ITEMS                                8\n",
       "ACT COST                          18.8\n",
       "PUBLICATION           GP_PRAC_PAT_LIST\n",
       "EXTRACT_DATE                 01APR2018\n",
       "TYPE                                GP\n",
       "CCG_CODE                           11E\n",
       "ONS_CCG_CODE                 E38000009\n",
       "CODE                            L81080\n",
       "POSTCODE                       BA1 2SR\n",
       "SEX                                ALL\n",
       "AGE                                ALL\n",
       "NUMBER_OF_PATIENTS               10908\n",
       "per_patient                 0.00172351\n",
       "Name: 4707, dtype: object"
      ]
     },
     "execution_count": 114,
     "metadata": {},
     "output_type": "execute_result"
    }
   ],
   "source": [
    "# One way\n",
    "nt_mss.iloc[nt_mss['per_patient'].idxmin, :]"
   ]
  },
  {
   "cell_type": "code",
   "execution_count": 103,
   "metadata": {},
   "outputs": [
    {
     "data": {
      "text/html": [
       "<div>\n",
       "<style scoped>\n",
       "    .dataframe tbody tr th:only-of-type {\n",
       "        vertical-align: middle;\n",
       "    }\n",
       "\n",
       "    .dataframe tbody tr th {\n",
       "        vertical-align: top;\n",
       "    }\n",
       "\n",
       "    .dataframe thead th {\n",
       "        text-align: right;\n",
       "    }\n",
       "</style>\n",
       "<table border=\"1\" class=\"dataframe\">\n",
       "  <thead>\n",
       "    <tr style=\"text-align: right;\">\n",
       "      <th></th>\n",
       "      <th>PRACTICE</th>\n",
       "      <th>ITEMS</th>\n",
       "      <th>ACT COST</th>\n",
       "      <th>PUBLICATION</th>\n",
       "      <th>EXTRACT_DATE</th>\n",
       "      <th>TYPE</th>\n",
       "      <th>CCG_CODE</th>\n",
       "      <th>ONS_CCG_CODE</th>\n",
       "      <th>CODE</th>\n",
       "      <th>POSTCODE</th>\n",
       "      <th>SEX</th>\n",
       "      <th>AGE</th>\n",
       "      <th>NUMBER_OF_PATIENTS</th>\n",
       "      <th>per_patient</th>\n",
       "    </tr>\n",
       "  </thead>\n",
       "  <tbody>\n",
       "    <tr>\n",
       "      <th>4707</th>\n",
       "      <td>L81080</td>\n",
       "      <td>8</td>\n",
       "      <td>18.8</td>\n",
       "      <td>GP_PRAC_PAT_LIST</td>\n",
       "      <td>01APR2018</td>\n",
       "      <td>GP</td>\n",
       "      <td>11E</td>\n",
       "      <td>E38000009</td>\n",
       "      <td>L81080</td>\n",
       "      <td>BA1 2SR</td>\n",
       "      <td>ALL</td>\n",
       "      <td>ALL</td>\n",
       "      <td>10908</td>\n",
       "      <td>0.001724</td>\n",
       "    </tr>\n",
       "  </tbody>\n",
       "</table>\n",
       "</div>"
      ],
      "text/plain": [
       "     PRACTICE  ITEMS  ACT COST       PUBLICATION EXTRACT_DATE TYPE CCG_CODE  \\\n",
       "4707   L81080      8      18.8  GP_PRAC_PAT_LIST    01APR2018   GP      11E   \n",
       "\n",
       "     ONS_CCG_CODE    CODE POSTCODE  SEX  AGE  NUMBER_OF_PATIENTS  per_patient  \n",
       "4707    E38000009  L81080  BA1 2SR  ALL  ALL               10908     0.001724  "
      ]
     },
     "execution_count": 103,
     "metadata": {},
     "output_type": "execute_result"
    }
   ],
   "source": [
    "# Another way\n",
    "nt_mss[nt_mss['per_patient'] < 1].sort_values(by='per_patient').head(1)"
   ]
  },
  {
   "cell_type": "markdown",
   "metadata": {},
   "source": [
    "L81080 is one of the branches of http://www.stjamessurgery.org.uk/"
   ]
  },
  {
   "cell_type": "markdown",
   "metadata": {},
   "source": [
    "### Replot for surgeries with spending per patient < £25\n",
    "Due to outliers - very difficult to make out anything from plot of actual cost above"
   ]
  },
  {
   "cell_type": "code",
   "execution_count": 11,
   "metadata": {},
   "outputs": [
    {
     "name": "stdout",
     "output_type": "stream",
     "text": [
      "So 7165 practices out of  7191 spend less than £25/patient, and 26 pay more\n"
     ]
    }
   ],
   "source": [
    "print('So', len(nt_mss[nt_mss['per_patient'] < 25]), 'practices out of ', len(nt_mss),\n",
    "      'spend less than £25/patient, and', len(nt_mss) - len(nt_mss[nt_mss['per_patient'] < 25]), 'pay more')\n",
    "\n",
    "temp_test = nt_mss[nt_mss['per_patient'] < 25].copy()"
   ]
  },
  {
   "cell_type": "code",
   "execution_count": 130,
   "metadata": {},
   "outputs": [
    {
     "name": "stdout",
     "output_type": "stream",
     "text": [
      "Trendline, slope and intercept [-1.14304751e-05  1.08153234e+01]\n"
     ]
    },
    {
     "data": {
      "text/plain": [
       "<function matplotlib.pyplot.show(*args, **kw)>"
      ]
     },
     "execution_count": 130,
     "metadata": {},
     "output_type": "execute_result"
    },
    {
     "data": {
      "image/png": "[encoded data removed]",
      "text/plain": [
       "<Figure size 864x576 with 2 Axes>"
      ]
     },
     "metadata": {
      "needs_background": "light"
     },
     "output_type": "display_data"
    }
   ],
   "source": [
    "fig = plt.figure(figsize=(12, 8))\n",
    "plt.subplot(1, 1, 1)\n",
    "\n",
    "x = temp_test['NUMBER_OF_PATIENTS']\n",
    "y = temp_test['per_patient']\n",
    "\n",
    "colors = temp_test['ITEMS'] / temp_test['ITEMS'].max()\n",
    "\n",
    "plt.xlabel('Number of patients')\n",
    "plt.ylabel('Cost per patient (£)')\n",
    "plt.title('Scatter plot of cost per patient vs. number of patients registered\\n'\n",
    "         'for practices with cost per patient < £25, with trendline\\n'\n",
    "         'Colour shows number of items prescribed as a proportion of \\n'\n",
    "         'the maximum number prescribed for all practices')\n",
    "\n",
    "z = np.polyfit(x, y, 1)\n",
    "p = np.poly1d(z)\n",
    "print('Trendline, slope and intercept', z)\n",
    "\n",
    "plt.plot(x,p(x),\"r--\")\n",
    "plt.scatter(x, y, c=colors, marker = '.', cmap = 'tab20')\n",
    "\n",
    "plt.colorbar()\n",
    "plt.savefig('plot_sub25_pp_num.png')\n",
    "plt.show"
   ]
  },
  {
   "cell_type": "markdown",
   "metadata": {},
   "source": [
    "### Plot per patient expenditure for all practices (with per patient < £25), lowest to highest"
   ]
  },
  {
   "cell_type": "code",
   "execution_count": 12,
   "metadata": {},
   "outputs": [],
   "source": [
    "temp_len = range(len(temp_test['per_patient']))\n",
    "temp_test = temp_test.sort_values(by='per_patient')"
   ]
  },
  {
   "cell_type": "code",
   "execution_count": 133,
   "metadata": {},
   "outputs": [
    {
     "data": {
      "image/png": "[encoded data removed]",
      "text/plain": [
       "<Figure size 720x720 with 1 Axes>"
      ]
     },
     "metadata": {
      "needs_background": "light"
     },
     "output_type": "display_data"
    }
   ],
   "source": [
    "fig = plt.figure(figsize=(10, 10))\n",
    "#plt.subplot(1, 1, 1)\n",
    "ax = plt.gca()\n",
    "plt.scatter(temp_len, temp_test['per_patient'])\n",
    "\n",
    "plt.tick_params(\n",
    "    axis='x',          # changes apply to the x-axis\n",
    "    which='both',      # both major and minor ticks are affected\n",
    "    bottom=False,      # ticks along the bottom edge are off\n",
    "    top=False,         # ticks along the top edge are off\n",
    "    labelbottom=False) # labels along the bottom edge are off\n",
    "\n",
    "plt.ylabel('Cost per patient in £')\n",
    "plt.xlabel('All practices with per patient cost < £25), ranked from lowest cost to highest cost')\n",
    "plt.title('Per patient costs for practices where this is less than £25')\n",
    "\n",
    "plt.savefig('plot_sub25_pp.png')\n",
    "plt.show()"
   ]
  },
  {
   "cell_type": "code",
   "execution_count": 134,
   "metadata": {},
   "outputs": [
    {
     "data": {
      "image/png": "[encoded data removed]",
      "text/plain": [
       "<Figure size 504x504 with 1 Axes>"
      ]
     },
     "metadata": {
      "needs_background": "light"
     },
     "output_type": "display_data"
    }
   ],
   "source": [
    "x = temp_test['per_patient']\n",
    "num_bins = 50\n",
    "\n",
    "fig = plt.figure(figsize=(7,7))\n",
    "plt.subplot(1, 1, 1)\n",
    "plt.hist(x, num_bins)\n",
    "\n",
    "plt.xlabel('Cost per patient')\n",
    "plt.ylabel('Number pf practices')\n",
    "plt.title('Histogram showing cost per patient, for practices with cost < £25')\n",
    "\n",
    "plt.savefig('hist_sub25_pp.png')\n",
    "plt.show()"
   ]
  },
  {
   "cell_type": "code",
   "execution_count": 13,
   "metadata": {
    "scrolled": true
   },
   "outputs": [
    {
     "data": {
      "image/png": "[encoded data removed]",
      "text/plain": [
       "<Figure size 576x432 with 1 Axes>"
      ]
     },
     "metadata": {
      "needs_background": "light"
     },
     "output_type": "display_data"
    }
   ],
   "source": [
    "# https://matplotlib.org/gallery/statistics/histogram_features.html\n",
    "\n",
    "x = temp_test['per_patient']\n",
    "mu = x.mean()\n",
    "sigma = x.std()\n",
    "\n",
    "num_bins = 50\n",
    "\n",
    "fig, ax = plt.subplots(figsize=(8,6))\n",
    "\n",
    "# the histogram of the data\n",
    "n, bins, patches = ax.hist(x, num_bins, density=True)\n",
    "\n",
    "y = ((1 / (np.sqrt(2 * np.pi) * sigma)) *\n",
    "     np.exp(-0.5 * (1 / sigma * (bins - mu))**2))\n",
    "ax.plot(bins, y, '--')\n",
    "ax.set_xlabel('Cost per patient (£)')\n",
    "ax.set_ylabel('Probability density')\n",
    "ax.set_title('Histogram showing cost per patient, for practices with cost < £25\\n'\n",
    "            'overlaid with normal curve')\n",
    "\n",
    "fig.tight_layout()\n",
    "plt.savefig('hist_sub25_pp_pdf.png')\n",
    "plt.show()"
   ]
  },
  {
   "cell_type": "markdown",
   "metadata": {},
   "source": [
    "### Filter for CVS disease"
   ]
  },
  {
   "cell_type": "code",
   "execution_count": 111,
   "metadata": {},
   "outputs": [
    {
     "data": {
      "text/plain": [
       "ACT COST    9.019383e+07\n",
       "ITEMS       2.644983e+07\n",
       "dtype: float64"
      ]
     },
     "execution_count": 111,
     "metadata": {},
     "output_type": "execute_result"
    }
   ],
   "source": [
    "cvs_data = data[data['BNF CODE'].str[:2] == '02'][['ACT COST', 'ITEMS']].sum()\n",
    "cvs_data.head()"
   ]
  },
  {
   "cell_type": "markdown",
   "metadata": {},
   "source": [
    "### Filter for antidepressants"
   ]
  },
  {
   "cell_type": "code",
   "execution_count": 112,
   "metadata": {},
   "outputs": [
    {
     "data": {
      "text/plain": [
       "ACT COST    1.685347e+07\n",
       "ITEMS       5.715873e+06\n",
       "dtype: float64"
      ]
     },
     "execution_count": 112,
     "metadata": {},
     "output_type": "execute_result"
    }
   ],
   "source": [
    "dep_data = data[data['BNF CODE'].str[:4] == '0403'][['ACT COST', 'ITEMS']].sum()\n",
    "dep_data.head()"
   ]
  },
  {
   "cell_type": "markdown",
   "metadata": {},
   "source": [
    "# PandaSQL"
   ]
  },
  {
   "cell_type": "code",
   "execution_count": null,
   "metadata": {},
   "outputs": [],
   "source": [
    "from pandasql import PandaSQL \n",
    "pdsql = PandaSQL()"
   ]
  },
  {
   "cell_type": "code",
   "execution_count": 12,
   "metadata": {},
   "outputs": [],
   "source": [
    "cols = ['col1', 'col2', 'name', 'ad1', 'ad2', 'ad3', 'ad4', 'pcode']"
   ]
  },
  {
   "cell_type": "code",
   "execution_count": 63,
   "metadata": {},
   "outputs": [
    {
     "data": {
      "text/html": [
       "<div>\n",
       "<style scoped>\n",
       "    .dataframe tbody tr th:only-of-type {\n",
       "        vertical-align: middle;\n",
       "    }\n",
       "\n",
       "    .dataframe tbody tr th {\n",
       "        vertical-align: top;\n",
       "    }\n",
       "\n",
       "    .dataframe thead th {\n",
       "        text-align: right;\n",
       "    }\n",
       "</style>\n",
       "<table border=\"1\" class=\"dataframe\">\n",
       "  <thead>\n",
       "    <tr style=\"text-align: right;\">\n",
       "      <th></th>\n",
       "      <th>col1</th>\n",
       "      <th>col2</th>\n",
       "      <th>name</th>\n",
       "      <th>ad1</th>\n",
       "      <th>ad2</th>\n",
       "      <th>ad3</th>\n",
       "      <th>ad4</th>\n",
       "      <th>pcode</th>\n",
       "    </tr>\n",
       "  </thead>\n",
       "  <tbody>\n",
       "    <tr>\n",
       "      <th>0</th>\n",
       "      <td>201804</td>\n",
       "      <td>A81001</td>\n",
       "      <td>THE DENSHAM SURGERY</td>\n",
       "      <td>THE HEALTH CENTRE</td>\n",
       "      <td>LAWSON STREET</td>\n",
       "      <td>STOCKTON-ON-TEES</td>\n",
       "      <td>CLEVELAND</td>\n",
       "      <td>TS18 1HU</td>\n",
       "    </tr>\n",
       "  </tbody>\n",
       "</table>\n",
       "</div>"
      ],
      "text/plain": [
       "     col1    col2                                      name  \\\n",
       "0  201804  A81001  THE DENSHAM SURGERY                        \n",
       "\n",
       "                         ad1                        ad2  \\\n",
       "0  THE HEALTH CENTRE          LAWSON STREET               \n",
       "\n",
       "                         ad3                        ad4     pcode  \n",
       "0  STOCKTON-ON-TEES           CLEVELAND                  TS18 1HU  "
      ]
     },
     "execution_count": 63,
     "metadata": {},
     "output_type": "execute_result"
    }
   ],
   "source": [
    "# prcts = pd.read_csv('https://files.digital.nhs.uk/20/09E30B/T201804ADDR%20BNFT.CSV', header = None)\n",
    "# prcts = pd.read_csv('test_city.csv', header = None)\n",
    "prcts = pd.read_csv('T201804ADDR BNFT.CSV', header = None)\n",
    "prcts.columns = ['col1', 'col2', 'name', 'ad1', 'ad2', 'ad3', 'ad4', 'pcode']\n",
    "prcts.head(1)"
   ]
  },
  {
   "cell_type": "code",
   "execution_count": 62,
   "metadata": {},
   "outputs": [
    {
     "name": "stdout",
     "output_type": "stream",
     "text": [
      "                         city  count(city)\n",
      "0   LONDON                             378\n",
      "1   BIRMINGHAM                         163\n",
      "2   LIVERPOOL                          142\n",
      "3   MANCHESTER                         128\n",
      "4   LEEDS                              120\n",
      "5   SHEFFIELD                          103\n",
      "6   BRISTOL                             97\n",
      "7   NOTTINGHAM                          92\n",
      "8   COVENTRY                            90\n",
      "9   LEICESTER                           86\n",
      "10  BRADFORD                            78\n",
      "11  NEWCASTLE UPON TYNE                 71\n",
      "12  WOLVERHAMPTON                       59\n",
      "13  PLYMOUTH                            54\n",
      "14  PRESTON                             50\n",
      "15  BOLTON                              48\n",
      "16  DONCASTER                           47\n",
      "17  HUDDERSFIELD                        45\n",
      "18  STOKE ON TRENT                      44\n",
      "19  SUNDERLAND                          44\n",
      "20  OLDHAM                              43\n",
      "21  SOUTHAMPTON                         43\n",
      "22  WALSALL                             43\n",
      "23  NORWICH                             41\n",
      "24  BRIGHTON                            40\n",
      "25  ASHFORD                             39\n",
      "26  BEDFORD                             39\n",
      "27  READING                             37\n",
      "28  WARRINGTON                          37\n",
      "29  BLACKBURN                           36\n",
      "30  DERBY                               36\n",
      "31  CAMBRIDGE                           35\n",
      "32  MILTON KEYNES                       34\n",
      "33  PETERBOROUGH                        34\n",
      "34  SWINDON                             34\n",
      "35  BARNSLEY                            33\n",
      "36  BLACKPOOL                           33\n",
      "37  HARTLEPOOL                          33\n",
      "38  WIGAN                               33\n",
      "39  GLOUCESTER                          32\n",
      "40  GRIMSBY                             32\n",
      "41  LUTON                               32\n",
      "42  KINGSTON UPON HULL                  31\n",
      "43  ROCHDALE                            31\n",
      "44  WORCESTER                           31\n",
      "45  IPSWICH                             30\n",
      "46  BATH                                29\n",
      "47  COLCHESTER                          29\n",
      "48  ILFORD                              29\n",
      "49  MIDDLESBROUGH                       28\n",
      "50  NORTHAMPTON                         28\n"
     ]
    }
   ],
   "source": [
    "print(pdsql(\"WITH temp_table AS (SELECT CASE WHEN ad3 = '' OR ad3 IS NULL OR LENGTH (TRIM (ad3))  = 0 THEN ad4 ELSE ad3 END AS city FROM prcts) SELECT city, count(city) FROM temp_table GROUP BY city ORDER BY count(city) DESC LIMIT(51)\"))"
   ]
  },
  {
   "cell_type": "code",
   "execution_count": null,
   "metadata": {},
   "outputs": [],
   "source": []
  },
  {
   "cell_type": "code",
   "execution_count": null,
   "metadata": {},
   "outputs": [],
   "source": []
  },
  {
   "cell_type": "code",
   "execution_count": null,
   "metadata": {},
   "outputs": [],
   "source": []
  },
  {
   "cell_type": "code",
   "execution_count": null,
   "metadata": {},
   "outputs": [],
   "source": []
  },
  {
   "cell_type": "code",
   "execution_count": null,
   "metadata": {},
   "outputs": [],
   "source": []
  },
  {
   "cell_type": "code",
   "execution_count": null,
   "metadata": {},
   "outputs": [],
   "source": []
  },
  {
   "cell_type": "markdown",
   "metadata": {},
   "source": [
    "\n",
    "\n",
    "\n"
   ]
  },
  {
   "cell_type": "markdown",
   "metadata": {},
   "source": [
    "# WHO data"
   ]
  },
  {
   "cell_type": "code",
   "execution_count": null,
   "metadata": {},
   "outputs": [],
   "source": [
    "# Data files from https://www.who.int/healthinfo/statistics/mortality_rawdata/en/\n",
    "# But zipped, so difficult to read from within python"
   ]
  },
  {
   "cell_type": "code",
   "execution_count": 2,
   "metadata": {},
   "outputs": [
    {
     "data": {
      "text/html": [
       "<div>\n",
       "<style scoped>\n",
       "    .dataframe tbody tr th:only-of-type {\n",
       "        vertical-align: middle;\n",
       "    }\n",
       "\n",
       "    .dataframe tbody tr th {\n",
       "        vertical-align: top;\n",
       "    }\n",
       "\n",
       "    .dataframe thead th {\n",
       "        text-align: right;\n",
       "    }\n",
       "</style>\n",
       "<table border=\"1\" class=\"dataframe\">\n",
       "  <thead>\n",
       "    <tr style=\"text-align: right;\">\n",
       "      <th></th>\n",
       "      <th>country</th>\n",
       "      <th>name</th>\n",
       "    </tr>\n",
       "  </thead>\n",
       "  <tbody>\n",
       "    <tr>\n",
       "      <th>0</th>\n",
       "      <td>1010</td>\n",
       "      <td>Algeria</td>\n",
       "    </tr>\n",
       "    <tr>\n",
       "      <th>1</th>\n",
       "      <td>1020</td>\n",
       "      <td>Angola</td>\n",
       "    </tr>\n",
       "    <tr>\n",
       "      <th>2</th>\n",
       "      <td>1025</td>\n",
       "      <td>Benin</td>\n",
       "    </tr>\n",
       "    <tr>\n",
       "      <th>3</th>\n",
       "      <td>1030</td>\n",
       "      <td>Botswana</td>\n",
       "    </tr>\n",
       "    <tr>\n",
       "      <th>4</th>\n",
       "      <td>1035</td>\n",
       "      <td>Burkina Faso</td>\n",
       "    </tr>\n",
       "  </tbody>\n",
       "</table>\n",
       "</div>"
      ],
      "text/plain": [
       "   country          name\n",
       "0     1010       Algeria\n",
       "1     1020        Angola\n",
       "2     1025         Benin\n",
       "3     1030      Botswana\n",
       "4     1035  Burkina Faso"
      ]
     },
     "execution_count": 2,
     "metadata": {},
     "output_type": "execute_result"
    }
   ],
   "source": [
    "c_codes = pd.read_csv('country_codes.csv')\n",
    "c_codes.head()"
   ]
  },
  {
   "cell_type": "code",
   "execution_count": 3,
   "metadata": {},
   "outputs": [
    {
     "data": {
      "text/html": [
       "<div>\n",
       "<style scoped>\n",
       "    .dataframe tbody tr th:only-of-type {\n",
       "        vertical-align: middle;\n",
       "    }\n",
       "\n",
       "    .dataframe tbody tr th {\n",
       "        vertical-align: top;\n",
       "    }\n",
       "\n",
       "    .dataframe thead th {\n",
       "        text-align: right;\n",
       "    }\n",
       "</style>\n",
       "<table border=\"1\" class=\"dataframe\">\n",
       "  <thead>\n",
       "    <tr style=\"text-align: right;\">\n",
       "      <th></th>\n",
       "      <th>Country</th>\n",
       "      <th>Admin1</th>\n",
       "      <th>SubDiv</th>\n",
       "      <th>Year</th>\n",
       "      <th>Sex</th>\n",
       "      <th>Frmat</th>\n",
       "      <th>Pop1</th>\n",
       "      <th>Pop2</th>\n",
       "      <th>Pop3</th>\n",
       "      <th>Pop4</th>\n",
       "      <th>...</th>\n",
       "      <th>Pop18</th>\n",
       "      <th>Pop19</th>\n",
       "      <th>Pop20</th>\n",
       "      <th>Pop21</th>\n",
       "      <th>Pop22</th>\n",
       "      <th>Pop23</th>\n",
       "      <th>Pop24</th>\n",
       "      <th>Pop25</th>\n",
       "      <th>Pop26</th>\n",
       "      <th>Lb</th>\n",
       "    </tr>\n",
       "  </thead>\n",
       "  <tbody>\n",
       "    <tr>\n",
       "      <th>0</th>\n",
       "      <td>1060</td>\n",
       "      <td>NaN</td>\n",
       "      <td>NaN</td>\n",
       "      <td>1980</td>\n",
       "      <td>1</td>\n",
       "      <td>7</td>\n",
       "      <td>137100.0</td>\n",
       "      <td>3400.0</td>\n",
       "      <td>15800.0</td>\n",
       "      <td>NaN</td>\n",
       "      <td>...</td>\n",
       "      <td>NaN</td>\n",
       "      <td>5300.0</td>\n",
       "      <td>NaN</td>\n",
       "      <td>2900.0</td>\n",
       "      <td>NaN</td>\n",
       "      <td>NaN</td>\n",
       "      <td>NaN</td>\n",
       "      <td>NaN</td>\n",
       "      <td>6500.0</td>\n",
       "      <td>5000.0</td>\n",
       "    </tr>\n",
       "    <tr>\n",
       "      <th>1</th>\n",
       "      <td>1060</td>\n",
       "      <td>NaN</td>\n",
       "      <td>NaN</td>\n",
       "      <td>1980</td>\n",
       "      <td>2</td>\n",
       "      <td>7</td>\n",
       "      <td>159000.0</td>\n",
       "      <td>4000.0</td>\n",
       "      <td>18400.0</td>\n",
       "      <td>NaN</td>\n",
       "      <td>...</td>\n",
       "      <td>NaN</td>\n",
       "      <td>6200.0</td>\n",
       "      <td>NaN</td>\n",
       "      <td>3400.0</td>\n",
       "      <td>NaN</td>\n",
       "      <td>NaN</td>\n",
       "      <td>NaN</td>\n",
       "      <td>NaN</td>\n",
       "      <td>7500.0</td>\n",
       "      <td>6000.0</td>\n",
       "    </tr>\n",
       "    <tr>\n",
       "      <th>2</th>\n",
       "      <td>1125</td>\n",
       "      <td>NaN</td>\n",
       "      <td>NaN</td>\n",
       "      <td>1955</td>\n",
       "      <td>1</td>\n",
       "      <td>2</td>\n",
       "      <td>5051500.0</td>\n",
       "      <td>150300.0</td>\n",
       "      <td>543400.0</td>\n",
       "      <td>NaN</td>\n",
       "      <td>...</td>\n",
       "      <td>110200.0</td>\n",
       "      <td>51100.0</td>\n",
       "      <td>41600.0</td>\n",
       "      <td>14300.0</td>\n",
       "      <td>11800.0</td>\n",
       "      <td>25300.0</td>\n",
       "      <td>NaN</td>\n",
       "      <td>NaN</td>\n",
       "      <td>0.0</td>\n",
       "      <td>253329.0</td>\n",
       "    </tr>\n",
       "    <tr>\n",
       "      <th>3</th>\n",
       "      <td>1125</td>\n",
       "      <td>NaN</td>\n",
       "      <td>NaN</td>\n",
       "      <td>1955</td>\n",
       "      <td>2</td>\n",
       "      <td>2</td>\n",
       "      <td>5049400.0</td>\n",
       "      <td>145200.0</td>\n",
       "      <td>551000.0</td>\n",
       "      <td>NaN</td>\n",
       "      <td>...</td>\n",
       "      <td>122100.0</td>\n",
       "      <td>51100.0</td>\n",
       "      <td>50700.0</td>\n",
       "      <td>15800.0</td>\n",
       "      <td>18000.0</td>\n",
       "      <td>28500.0</td>\n",
       "      <td>NaN</td>\n",
       "      <td>NaN</td>\n",
       "      <td>0.0</td>\n",
       "      <td>237901.0</td>\n",
       "    </tr>\n",
       "    <tr>\n",
       "      <th>4</th>\n",
       "      <td>1125</td>\n",
       "      <td>NaN</td>\n",
       "      <td>NaN</td>\n",
       "      <td>1956</td>\n",
       "      <td>1</td>\n",
       "      <td>2</td>\n",
       "      <td>5353700.0</td>\n",
       "      <td>158700.0</td>\n",
       "      <td>576600.0</td>\n",
       "      <td>NaN</td>\n",
       "      <td>...</td>\n",
       "      <td>116900.0</td>\n",
       "      <td>54100.0</td>\n",
       "      <td>44000.0</td>\n",
       "      <td>14900.0</td>\n",
       "      <td>12400.0</td>\n",
       "      <td>26600.0</td>\n",
       "      <td>NaN</td>\n",
       "      <td>NaN</td>\n",
       "      <td>0.0</td>\n",
       "      <td>250022.0</td>\n",
       "    </tr>\n",
       "  </tbody>\n",
       "</table>\n",
       "<p>5 rows × 33 columns</p>\n",
       "</div>"
      ],
      "text/plain": [
       "   Country  Admin1 SubDiv  Year  Sex  Frmat       Pop1      Pop2      Pop3  \\\n",
       "0     1060     NaN    NaN  1980    1      7   137100.0    3400.0   15800.0   \n",
       "1     1060     NaN    NaN  1980    2      7   159000.0    4000.0   18400.0   \n",
       "2     1125     NaN    NaN  1955    1      2  5051500.0  150300.0  543400.0   \n",
       "3     1125     NaN    NaN  1955    2      2  5049400.0  145200.0  551000.0   \n",
       "4     1125     NaN    NaN  1956    1      2  5353700.0  158700.0  576600.0   \n",
       "\n",
       "   Pop4    ...        Pop18    Pop19    Pop20    Pop21    Pop22    Pop23  \\\n",
       "0   NaN    ...          NaN   5300.0      NaN   2900.0      NaN      NaN   \n",
       "1   NaN    ...          NaN   6200.0      NaN   3400.0      NaN      NaN   \n",
       "2   NaN    ...     110200.0  51100.0  41600.0  14300.0  11800.0  25300.0   \n",
       "3   NaN    ...     122100.0  51100.0  50700.0  15800.0  18000.0  28500.0   \n",
       "4   NaN    ...     116900.0  54100.0  44000.0  14900.0  12400.0  26600.0   \n",
       "\n",
       "   Pop24  Pop25   Pop26        Lb  \n",
       "0    NaN    NaN  6500.0    5000.0  \n",
       "1    NaN    NaN  7500.0    6000.0  \n",
       "2    NaN    NaN     0.0  253329.0  \n",
       "3    NaN    NaN     0.0  237901.0  \n",
       "4    NaN    NaN     0.0  250022.0  \n",
       "\n",
       "[5 rows x 33 columns]"
      ]
     },
     "execution_count": 3,
     "metadata": {},
     "output_type": "execute_result"
    }
   ],
   "source": [
    "pop = pd.read_csv('pop.csv')\n",
    "pop.head()"
   ]
  },
  {
   "cell_type": "code",
   "execution_count": 4,
   "metadata": {},
   "outputs": [],
   "source": [
    "# Define column types for mortality dataframe\n",
    "dict = {'Country': object, 'Admin1': object, 'SubDiv': object, 'Year': object, \\\n",
    "        'List': object, 'Cause': object, 'Sex': object, 'Frmat': object, 'IM_Frmat': object, \\\n",
    "        'Deaths1': float, 'Deaths2': float, 'Deaths3': float, 'Deaths4': float, 'Deaths5': float, \\\n",
    "        'Deaths6': float, 'Deaths7': float, 'Deaths8': float, 'Deaths9': float, 'Deaths10': float, \\\n",
    "        'Deaths11': float, 'Deaths12': float, 'Deaths13': float, 'Deaths14': float, 'Deaths15': float, \\\n",
    "        'Deaths16': float, 'Deaths17': float, 'Deaths18': float, 'Deaths19': float, 'Deaths20': float, \\\n",
    "        'Deaths21': float, 'Deaths22': float, 'Deaths23': float, 'Deaths24': float, 'Deaths25': float, \\\n",
    "        'Deaths26': float, 'IM_deaths1': float, 'IM_deaths2': float, 'IM_deaths3': float, 'IM_deaths4': float}\n"
   ]
  },
  {
   "cell_type": "code",
   "execution_count": 6,
   "metadata": {},
   "outputs": [
    {
     "data": {
      "text/html": [
       "<div>\n",
       "<style scoped>\n",
       "    .dataframe tbody tr th:only-of-type {\n",
       "        vertical-align: middle;\n",
       "    }\n",
       "\n",
       "    .dataframe tbody tr th {\n",
       "        vertical-align: top;\n",
       "    }\n",
       "\n",
       "    .dataframe thead th {\n",
       "        text-align: right;\n",
       "    }\n",
       "</style>\n",
       "<table border=\"1\" class=\"dataframe\">\n",
       "  <thead>\n",
       "    <tr style=\"text-align: right;\">\n",
       "      <th></th>\n",
       "      <th>Country</th>\n",
       "      <th>Admin1</th>\n",
       "      <th>SubDiv</th>\n",
       "      <th>Year</th>\n",
       "      <th>List</th>\n",
       "      <th>Cause</th>\n",
       "      <th>Sex</th>\n",
       "      <th>Frmat</th>\n",
       "      <th>IM_Frmat</th>\n",
       "      <th>Deaths1</th>\n",
       "      <th>...</th>\n",
       "      <th>Deaths21</th>\n",
       "      <th>Deaths22</th>\n",
       "      <th>Deaths23</th>\n",
       "      <th>Deaths24</th>\n",
       "      <th>Deaths25</th>\n",
       "      <th>Deaths26</th>\n",
       "      <th>IM_Deaths1</th>\n",
       "      <th>IM_Deaths2</th>\n",
       "      <th>IM_Deaths3</th>\n",
       "      <th>IM_Deaths4</th>\n",
       "    </tr>\n",
       "  </thead>\n",
       "  <tbody>\n",
       "    <tr>\n",
       "      <th>0</th>\n",
       "      <td>1400</td>\n",
       "      <td>NaN</td>\n",
       "      <td>NaN</td>\n",
       "      <td>2001</td>\n",
       "      <td>101</td>\n",
       "      <td>1000</td>\n",
       "      <td>1</td>\n",
       "      <td>07</td>\n",
       "      <td>08</td>\n",
       "      <td>332.0</td>\n",
       "      <td>...</td>\n",
       "      <td>95.0</td>\n",
       "      <td>NaN</td>\n",
       "      <td>NaN</td>\n",
       "      <td>NaN</td>\n",
       "      <td>NaN</td>\n",
       "      <td>0.0</td>\n",
       "      <td>8.0</td>\n",
       "      <td>NaN</td>\n",
       "      <td>NaN</td>\n",
       "      <td>NaN</td>\n",
       "    </tr>\n",
       "    <tr>\n",
       "      <th>1</th>\n",
       "      <td>1400</td>\n",
       "      <td>NaN</td>\n",
       "      <td>NaN</td>\n",
       "      <td>2001</td>\n",
       "      <td>101</td>\n",
       "      <td>1000</td>\n",
       "      <td>2</td>\n",
       "      <td>07</td>\n",
       "      <td>08</td>\n",
       "      <td>222.0</td>\n",
       "      <td>...</td>\n",
       "      <td>112.0</td>\n",
       "      <td>NaN</td>\n",
       "      <td>NaN</td>\n",
       "      <td>NaN</td>\n",
       "      <td>NaN</td>\n",
       "      <td>0.0</td>\n",
       "      <td>11.0</td>\n",
       "      <td>NaN</td>\n",
       "      <td>NaN</td>\n",
       "      <td>NaN</td>\n",
       "    </tr>\n",
       "    <tr>\n",
       "      <th>2</th>\n",
       "      <td>1400</td>\n",
       "      <td>NaN</td>\n",
       "      <td>NaN</td>\n",
       "      <td>2001</td>\n",
       "      <td>101</td>\n",
       "      <td>1001</td>\n",
       "      <td>1</td>\n",
       "      <td>07</td>\n",
       "      <td>08</td>\n",
       "      <td>24.0</td>\n",
       "      <td>...</td>\n",
       "      <td>5.0</td>\n",
       "      <td>NaN</td>\n",
       "      <td>NaN</td>\n",
       "      <td>NaN</td>\n",
       "      <td>NaN</td>\n",
       "      <td>0.0</td>\n",
       "      <td>0.0</td>\n",
       "      <td>NaN</td>\n",
       "      <td>NaN</td>\n",
       "      <td>NaN</td>\n",
       "    </tr>\n",
       "    <tr>\n",
       "      <th>3</th>\n",
       "      <td>1400</td>\n",
       "      <td>NaN</td>\n",
       "      <td>NaN</td>\n",
       "      <td>2001</td>\n",
       "      <td>101</td>\n",
       "      <td>1001</td>\n",
       "      <td>2</td>\n",
       "      <td>07</td>\n",
       "      <td>08</td>\n",
       "      <td>14.0</td>\n",
       "      <td>...</td>\n",
       "      <td>6.0</td>\n",
       "      <td>NaN</td>\n",
       "      <td>NaN</td>\n",
       "      <td>NaN</td>\n",
       "      <td>NaN</td>\n",
       "      <td>0.0</td>\n",
       "      <td>0.0</td>\n",
       "      <td>NaN</td>\n",
       "      <td>NaN</td>\n",
       "      <td>NaN</td>\n",
       "    </tr>\n",
       "    <tr>\n",
       "      <th>4</th>\n",
       "      <td>1400</td>\n",
       "      <td>NaN</td>\n",
       "      <td>NaN</td>\n",
       "      <td>2001</td>\n",
       "      <td>101</td>\n",
       "      <td>1002</td>\n",
       "      <td>1</td>\n",
       "      <td>07</td>\n",
       "      <td>08</td>\n",
       "      <td>0.0</td>\n",
       "      <td>...</td>\n",
       "      <td>0.0</td>\n",
       "      <td>NaN</td>\n",
       "      <td>NaN</td>\n",
       "      <td>NaN</td>\n",
       "      <td>NaN</td>\n",
       "      <td>0.0</td>\n",
       "      <td>0.0</td>\n",
       "      <td>NaN</td>\n",
       "      <td>NaN</td>\n",
       "      <td>NaN</td>\n",
       "    </tr>\n",
       "  </tbody>\n",
       "</table>\n",
       "<p>5 rows × 39 columns</p>\n",
       "</div>"
      ],
      "text/plain": [
       "  Country Admin1 SubDiv  Year List Cause Sex Frmat IM_Frmat  Deaths1  \\\n",
       "0    1400    NaN    NaN  2001  101  1000   1    07       08    332.0   \n",
       "1    1400    NaN    NaN  2001  101  1000   2    07       08    222.0   \n",
       "2    1400    NaN    NaN  2001  101  1001   1    07       08     24.0   \n",
       "3    1400    NaN    NaN  2001  101  1001   2    07       08     14.0   \n",
       "4    1400    NaN    NaN  2001  101  1002   1    07       08      0.0   \n",
       "\n",
       "      ...      Deaths21  Deaths22  Deaths23  Deaths24  Deaths25  Deaths26  \\\n",
       "0     ...          95.0       NaN       NaN       NaN       NaN       0.0   \n",
       "1     ...         112.0       NaN       NaN       NaN       NaN       0.0   \n",
       "2     ...           5.0       NaN       NaN       NaN       NaN       0.0   \n",
       "3     ...           6.0       NaN       NaN       NaN       NaN       0.0   \n",
       "4     ...           0.0       NaN       NaN       NaN       NaN       0.0   \n",
       "\n",
       "   IM_Deaths1  IM_Deaths2  IM_Deaths3  IM_Deaths4  \n",
       "0         8.0         NaN         NaN         NaN  \n",
       "1        11.0         NaN         NaN         NaN  \n",
       "2         0.0         NaN         NaN         NaN  \n",
       "3         0.0         NaN         NaN         NaN  \n",
       "4         0.0         NaN         NaN         NaN  \n",
       "\n",
       "[5 rows x 39 columns]"
      ]
     },
     "execution_count": 6,
     "metadata": {},
     "output_type": "execute_result"
    }
   ],
   "source": [
    "mort1 = pd.read_csv('Morticd10_part1.csv', dtype = dict)\n",
    "mort1.head()"
   ]
  },
  {
   "cell_type": "code",
   "execution_count": 7,
   "metadata": {},
   "outputs": [
    {
     "data": {
      "text/html": [
       "<div>\n",
       "<style scoped>\n",
       "    .dataframe tbody tr th:only-of-type {\n",
       "        vertical-align: middle;\n",
       "    }\n",
       "\n",
       "    .dataframe tbody tr th {\n",
       "        vertical-align: top;\n",
       "    }\n",
       "\n",
       "    .dataframe thead th {\n",
       "        text-align: right;\n",
       "    }\n",
       "</style>\n",
       "<table border=\"1\" class=\"dataframe\">\n",
       "  <thead>\n",
       "    <tr style=\"text-align: right;\">\n",
       "      <th></th>\n",
       "      <th>Country</th>\n",
       "      <th>Admin1</th>\n",
       "      <th>SubDiv</th>\n",
       "      <th>Year</th>\n",
       "      <th>List</th>\n",
       "      <th>Cause</th>\n",
       "      <th>Sex</th>\n",
       "      <th>Frmat</th>\n",
       "      <th>IM_Frmat</th>\n",
       "      <th>Deaths1</th>\n",
       "      <th>...</th>\n",
       "      <th>Deaths21</th>\n",
       "      <th>Deaths22</th>\n",
       "      <th>Deaths23</th>\n",
       "      <th>Deaths24</th>\n",
       "      <th>Deaths25</th>\n",
       "      <th>Deaths26</th>\n",
       "      <th>IM_Deaths1</th>\n",
       "      <th>IM_Deaths2</th>\n",
       "      <th>IM_Deaths3</th>\n",
       "      <th>IM_Deaths4</th>\n",
       "    </tr>\n",
       "  </thead>\n",
       "  <tbody>\n",
       "    <tr>\n",
       "      <th>0</th>\n",
       "      <td>1400</td>\n",
       "      <td>NaN</td>\n",
       "      <td>NaN</td>\n",
       "      <td>2005</td>\n",
       "      <td>101</td>\n",
       "      <td>1000</td>\n",
       "      <td>1</td>\n",
       "      <td>07</td>\n",
       "      <td>08</td>\n",
       "      <td>386.0</td>\n",
       "      <td>...</td>\n",
       "      <td>136.0</td>\n",
       "      <td>NaN</td>\n",
       "      <td>NaN</td>\n",
       "      <td>NaN</td>\n",
       "      <td>NaN</td>\n",
       "      <td>0.0</td>\n",
       "      <td>10.0</td>\n",
       "      <td>NaN</td>\n",
       "      <td>NaN</td>\n",
       "      <td>NaN</td>\n",
       "    </tr>\n",
       "    <tr>\n",
       "      <th>1</th>\n",
       "      <td>1400</td>\n",
       "      <td>NaN</td>\n",
       "      <td>NaN</td>\n",
       "      <td>2005</td>\n",
       "      <td>101</td>\n",
       "      <td>1000</td>\n",
       "      <td>2</td>\n",
       "      <td>07</td>\n",
       "      <td>08</td>\n",
       "      <td>287.0</td>\n",
       "      <td>...</td>\n",
       "      <td>163.0</td>\n",
       "      <td>NaN</td>\n",
       "      <td>NaN</td>\n",
       "      <td>NaN</td>\n",
       "      <td>NaN</td>\n",
       "      <td>0.0</td>\n",
       "      <td>6.0</td>\n",
       "      <td>NaN</td>\n",
       "      <td>NaN</td>\n",
       "      <td>NaN</td>\n",
       "    </tr>\n",
       "    <tr>\n",
       "      <th>2</th>\n",
       "      <td>1400</td>\n",
       "      <td>NaN</td>\n",
       "      <td>NaN</td>\n",
       "      <td>2005</td>\n",
       "      <td>101</td>\n",
       "      <td>1001</td>\n",
       "      <td>1</td>\n",
       "      <td>07</td>\n",
       "      <td>08</td>\n",
       "      <td>29.0</td>\n",
       "      <td>...</td>\n",
       "      <td>13.0</td>\n",
       "      <td>NaN</td>\n",
       "      <td>NaN</td>\n",
       "      <td>NaN</td>\n",
       "      <td>NaN</td>\n",
       "      <td>0.0</td>\n",
       "      <td>0.0</td>\n",
       "      <td>NaN</td>\n",
       "      <td>NaN</td>\n",
       "      <td>NaN</td>\n",
       "    </tr>\n",
       "    <tr>\n",
       "      <th>3</th>\n",
       "      <td>1400</td>\n",
       "      <td>NaN</td>\n",
       "      <td>NaN</td>\n",
       "      <td>2005</td>\n",
       "      <td>101</td>\n",
       "      <td>1001</td>\n",
       "      <td>2</td>\n",
       "      <td>07</td>\n",
       "      <td>08</td>\n",
       "      <td>21.0</td>\n",
       "      <td>...</td>\n",
       "      <td>16.0</td>\n",
       "      <td>NaN</td>\n",
       "      <td>NaN</td>\n",
       "      <td>NaN</td>\n",
       "      <td>NaN</td>\n",
       "      <td>0.0</td>\n",
       "      <td>0.0</td>\n",
       "      <td>NaN</td>\n",
       "      <td>NaN</td>\n",
       "      <td>NaN</td>\n",
       "    </tr>\n",
       "    <tr>\n",
       "      <th>4</th>\n",
       "      <td>1400</td>\n",
       "      <td>NaN</td>\n",
       "      <td>NaN</td>\n",
       "      <td>2005</td>\n",
       "      <td>101</td>\n",
       "      <td>1002</td>\n",
       "      <td>1</td>\n",
       "      <td>07</td>\n",
       "      <td>08</td>\n",
       "      <td>0.0</td>\n",
       "      <td>...</td>\n",
       "      <td>0.0</td>\n",
       "      <td>NaN</td>\n",
       "      <td>NaN</td>\n",
       "      <td>NaN</td>\n",
       "      <td>NaN</td>\n",
       "      <td>0.0</td>\n",
       "      <td>0.0</td>\n",
       "      <td>NaN</td>\n",
       "      <td>NaN</td>\n",
       "      <td>NaN</td>\n",
       "    </tr>\n",
       "  </tbody>\n",
       "</table>\n",
       "<p>5 rows × 39 columns</p>\n",
       "</div>"
      ],
      "text/plain": [
       "  Country Admin1 SubDiv  Year List Cause Sex Frmat IM_Frmat  Deaths1  \\\n",
       "0    1400    NaN    NaN  2005  101  1000   1    07       08    386.0   \n",
       "1    1400    NaN    NaN  2005  101  1000   2    07       08    287.0   \n",
       "2    1400    NaN    NaN  2005  101  1001   1    07       08     29.0   \n",
       "3    1400    NaN    NaN  2005  101  1001   2    07       08     21.0   \n",
       "4    1400    NaN    NaN  2005  101  1002   1    07       08      0.0   \n",
       "\n",
       "      ...      Deaths21  Deaths22  Deaths23  Deaths24  Deaths25  Deaths26  \\\n",
       "0     ...         136.0       NaN       NaN       NaN       NaN       0.0   \n",
       "1     ...         163.0       NaN       NaN       NaN       NaN       0.0   \n",
       "2     ...          13.0       NaN       NaN       NaN       NaN       0.0   \n",
       "3     ...          16.0       NaN       NaN       NaN       NaN       0.0   \n",
       "4     ...           0.0       NaN       NaN       NaN       NaN       0.0   \n",
       "\n",
       "   IM_Deaths1  IM_Deaths2  IM_Deaths3  IM_Deaths4  \n",
       "0        10.0         NaN         NaN         NaN  \n",
       "1         6.0         NaN         NaN         NaN  \n",
       "2         0.0         NaN         NaN         NaN  \n",
       "3         0.0         NaN         NaN         NaN  \n",
       "4         0.0         NaN         NaN         NaN  \n",
       "\n",
       "[5 rows x 39 columns]"
      ]
     },
     "execution_count": 7,
     "metadata": {},
     "output_type": "execute_result"
    }
   ],
   "source": [
    "mort2 = pd.read_csv('Morticd10_part2.csv', dtype = dict)\n",
    "mort2.head()"
   ]
  },
  {
   "cell_type": "code",
   "execution_count": 8,
   "metadata": {},
   "outputs": [
    {
     "data": {
      "text/plain": [
       "(3587860, 39)"
      ]
     },
     "execution_count": 8,
     "metadata": {},
     "output_type": "execute_result"
    }
   ],
   "source": [
    "mort = pd.concat([mort1, mort2])\n",
    "mort.shape"
   ]
  },
  {
   "cell_type": "code",
   "execution_count": 9,
   "metadata": {},
   "outputs": [
    {
     "data": {
      "text/plain": [
       "Country             0\n",
       "Admin1        3503687\n",
       "SubDiv        3585153\n",
       "Year                0\n",
       "List                0\n",
       "Cause               0\n",
       "Sex                 0\n",
       "Frmat               0\n",
       "IM_Frmat            0\n",
       "Deaths1             0\n",
       "Deaths2          2242\n",
       "Deaths3          2242\n",
       "Deaths4        167248\n",
       "Deaths5        167248\n",
       "Deaths6        167248\n",
       "Deaths7          2242\n",
       "Deaths8          5227\n",
       "Deaths9          2242\n",
       "Deaths10         5227\n",
       "Deaths11         2242\n",
       "Deaths12         5227\n",
       "Deaths13         2242\n",
       "Deaths14         5227\n",
       "Deaths15         2242\n",
       "Deaths16         5227\n",
       "Deaths17         2242\n",
       "Deaths18         5227\n",
       "Deaths19         2242\n",
       "Deaths20         5551\n",
       "Deaths21         2566\n",
       "Deaths22        13418\n",
       "Deaths23        13418\n",
       "Deaths24       478567\n",
       "Deaths25       478567\n",
       "Deaths26         2242\n",
       "IM_Deaths1       2243\n",
       "IM_Deaths2     808389\n",
       "IM_Deaths3     719169\n",
       "IM_Deaths4     719169\n",
       "dtype: int64"
      ]
     },
     "execution_count": 9,
     "metadata": {},
     "output_type": "execute_result"
    }
   ],
   "source": [
    "mort.isnull().sum()"
   ]
  },
  {
   "cell_type": "markdown",
   "metadata": {},
   "source": [
    "### Has check for 1000\n",
    "\n",
    "countries = ['Iceland', 'Italy', 'New Zealand']\n",
    "\n",
    "year = '2010'\n",
    "\n",
    "for country in countries:\n",
    "    country_code = c_codes[c_codes['name']== country]['country'].item()\n",
    "    country_pop = pop.loc[(pop['Country'] == country_code) & \n",
    "                            (pop['Year'] == int(year))]['Pop1'].sum()\n",
    "    if '1000' in mort[mort['Country'] == str(country_code)]['Cause']:\n",
    "        country_mort = mort[(mort['Country'] == str(country_code)) & \n",
    "                            (mort['Year'] == year) & \n",
    "                            (mort['Cause'] == 1000)]['Deaths1'].sum()\n",
    "    else:\n",
    "        country_mort = mort[(mort['Country'] == str(country_code)) & \n",
    "                            (mort['Year'] == year)]['Deaths1'].sum()\n",
    "    print(country, '(', country_code, ')', 'Population %.0f' % country_pop, '  Mortality %.0f' % country_mort)\n",
    "\n"
   ]
  },
  {
   "cell_type": "code",
   "execution_count": 11,
   "metadata": {},
   "outputs": [
    {
     "name": "stdout",
     "output_type": "stream",
     "text": [
      "Iceland ( 4160 ) Population 318041   Mortality 4038\n",
      "Italy ( 4180 ) Population 60483386   Mortality 1169230\n",
      "New Zealand ( 5150 ) Population 4367360   Mortality 57298\n"
     ]
    }
   ],
   "source": [
    "# Two\n",
    "countries = ['Iceland', 'Italy', 'New Zealand']\n",
    "\n",
    "year = '2010'\n",
    "\n",
    "for country in countries:\n",
    "    country_code = c_codes[c_codes['name']== country]['country'].item()\n",
    "    country_pop = pop.loc[(pop['Country'] == country_code) & \n",
    "                            (pop['Year'] == int(year))]['Pop1'].sum()\n",
    "    country_mort = mort[(mort['Country'] == str(country_code)) & \n",
    "                            (mort['Year'] == year)]['Deaths1'].sum()\n",
    "    print(country, '(', country_code, ')', 'Population %.0f' % country_pop, '  Mortality %.0f' % country_mort)\n",
    "# Print with no fractions - don't want 1.5 people"
   ]
  },
  {
   "cell_type": "markdown",
   "metadata": {},
   "source": [
    "2.  What was the distribution of deaths (all causes, all years) by age group in Italy?  \n",
    "  * Visualise the results using a histogram. "
   ]
  },
  {
   "cell_type": "markdown",
   "metadata": {},
   "source": [
    "## Italy"
   ]
  },
  {
   "cell_type": "code",
   "execution_count": 12,
   "metadata": {},
   "outputs": [],
   "source": [
    "country = 'Italy'\n",
    "country_code = c_codes[c_codes['name'] == country]['country'].item()\n",
    "country_mort = mort[(mort['Country'] == str(country_code))]"
   ]
  },
  {
   "cell_type": "code",
   "execution_count": 13,
   "metadata": {},
   "outputs": [
    {
     "data": {
      "text/plain": [
       "Country           0\n",
       "Admin1        63356\n",
       "SubDiv        63356\n",
       "Year              0\n",
       "List              0\n",
       "Cause             0\n",
       "Sex               0\n",
       "Frmat             0\n",
       "IM_Frmat          0\n",
       "Deaths1           0\n",
       "Deaths2           0\n",
       "Deaths3           0\n",
       "Deaths4           0\n",
       "Deaths5           0\n",
       "Deaths6           0\n",
       "Deaths7           0\n",
       "Deaths8           0\n",
       "Deaths9           0\n",
       "Deaths10          0\n",
       "Deaths11          0\n",
       "Deaths12          0\n",
       "Deaths13          0\n",
       "Deaths14          0\n",
       "Deaths15          0\n",
       "Deaths16          0\n",
       "Deaths17          0\n",
       "Deaths18          0\n",
       "Deaths19          0\n",
       "Deaths20          0\n",
       "Deaths21          0\n",
       "Deaths22          0\n",
       "Deaths23          0\n",
       "Deaths24          0\n",
       "Deaths25          0\n",
       "Deaths26          0\n",
       "IM_Deaths1        0\n",
       "IM_Deaths2        0\n",
       "IM_Deaths3        0\n",
       "IM_Deaths4        0\n",
       "dtype: int64"
      ]
     },
     "execution_count": 13,
     "metadata": {},
     "output_type": "execute_result"
    }
   ],
   "source": [
    "country_mort.isnull().sum()"
   ]
  },
  {
   "cell_type": "code",
   "execution_count": 16,
   "metadata": {},
   "outputs": [],
   "source": [
    "sum_mort = country_mort.iloc[:,10:34].sum() # Summed across all years and causes\n",
    "# NB should search for what years this covers\n",
    "\n",
    "lbls = sum_mort.index.values\n",
    "\n",
    "chart_lbls = ['Deaths at age 0 year', 'Deaths at age 1 year', 'Deaths at age 2 years', 'Deaths at age 3 years', \n",
    "    'Deaths at age 4 years', 'Deaths at age 5-9 years', 'Deaths at age 10-14 years', 'Deaths at age 15-19 years', \n",
    "    'Deaths at age 20-24 years', 'Deaths at age 25-29 years', 'Deaths at age 30-34 years', 'Deaths at age 35-39 years', \n",
    "    'Deaths at age 40-44 years', 'Deaths at age 45-49 years', 'Deaths at age 50-54 years', 'Deaths at age 55-59 years', \n",
    "    'Deaths at age 60-64 years', 'Deaths at age 65-69 years', 'Deaths at age 70-74 years', 'Deaths at age 75-79 years', \n",
    "    'Deaths at age 80-84 years', 'Deaths at age 85-89 years', 'Deaths at age 90-94 years', 'Deaths at age 95 years and above']"
   ]
  },
  {
   "cell_type": "code",
   "execution_count": 17,
   "metadata": {
    "scrolled": true
   },
   "outputs": [
    {
     "data": {
      "image/png": "[encoded data removed]",
      "text/plain": [
       "<Figure size 1080x432 with 1 Axes>"
      ]
     },
     "metadata": {
      "needs_background": "light"
     },
     "output_type": "display_data"
    }
   ],
   "source": [
    "plt.figure(figsize=(15,6))\n",
    "plt.subplot(1,1,1)\n",
    "plt.bar(np.arange(24), sum_mort)\n",
    "plt.xticks(np.arange(24), chart_lbls, rotation='90')\n",
    "plt.yticks([500000, 1000000, 1500000, 2000000, 2500000, 3000000], ['500', '1000', '1500', '2000', '2500', '3000'])\n",
    "plt.ylabel(\"Deaths, in 000's\")\n",
    "plt.title('Deaths in Italy for all causes, and all years recorded by the WHO, divided by age group')\n",
    "plt.savefig('italy_all.png', bbox_inches='tight')\n",
    "plt.show()"
   ]
  },
  {
   "cell_type": "markdown",
   "metadata": {},
   "source": [
    "3.  What were the top five causes of death (top five ICD-10 terms) in Italy across all \n",
    "years for the Neoplasm ICD10-category (C00-D48)?  \n",
    "  * Generate a table with the cause of death, the number of deaths, and the \n",
    "proportion of overall deaths. \n",
    "  * Generate a pie chart to visualize the proportion of deaths. "
   ]
  },
  {
   "cell_type": "markdown",
   "metadata": {},
   "source": [
    "### All deaths from neoplasms, all years (for country above - Italy)"
   ]
  },
  {
   "cell_type": "code",
   "execution_count": 18,
   "metadata": {},
   "outputs": [],
   "source": [
    "cause_mort = country_mort.loc[(country_mort['Cause'].str[0] == 'C') | \n",
    "                              (country_mort['Cause'].str[:2].isin(['D0', 'D1', 'D2', 'D3', 'D4']))]\n",
    "\n",
    "# D49 is neoplasm, though not in the assignment criteria, but is not used in the WHO data anyway\n",
    "\n",
    "sum_mort_n = cause_mort.groupby('Cause')[lbls].sum(axis=0).sum(axis=1)\n",
    "\n",
    "# axis = 0 will sum different years and male and female\n",
    "# axis = 1 will sum all the different age groups\n",
    "\n",
    "num_all_n = sum_mort_n.sum()"
   ]
  },
  {
   "cell_type": "markdown",
   "metadata": {},
   "source": [
    "### Top 5 causes of death for neoplasms, all years"
   ]
  },
  {
   "cell_type": "code",
   "execution_count": 21,
   "metadata": {},
   "outputs": [
    {
     "name": "stdout",
     "output_type": "stream",
     "text": [
      "Cause\n",
      "C349    426450.0\n",
      "C509    155895.0\n",
      "C189    143188.0\n",
      "C169    125679.0\n",
      "C259    120069.0\n",
      "dtype: float64\n"
     ]
    }
   ],
   "source": [
    "sum_mort_s = sum_mort_n.sort_values(ascending=False) # Top 5 neoplasms as cause of death\n",
    "print(sum_mort_s.head())\n",
    "num_5_n = sum_mort_s.head().sum() # sum of top 5"
   ]
  },
  {
   "cell_type": "markdown",
   "metadata": {},
   "source": [
    "### Check for use of ICD10 code 4th character to denote location"
   ]
  },
  {
   "cell_type": "code",
   "execution_count": 22,
   "metadata": {},
   "outputs": [
    {
     "data": {
      "text/plain": [
       "Cause\n",
       "C500        91.0\n",
       "C501         3.0\n",
       "C502         1.0\n",
       "C504         3.0\n",
       "C505         1.0\n",
       "C506         4.0\n",
       "C508         4.0\n",
       "C509    155895.0\n",
       "dtype: float64"
      ]
     },
     "execution_count": 22,
     "metadata": {},
     "output_type": "execute_result"
    }
   ],
   "source": [
    "brst_mort = country_mort.loc[(country_mort['Cause'].str[:3] == 'C50')].groupby('Cause')\n",
    "brst_mort[lbls].sum(axis=1).sum(axis=1)"
   ]
  },
  {
   "cell_type": "code",
   "execution_count": 23,
   "metadata": {},
   "outputs": [
    {
     "data": {
      "text/plain": [
       "Cause\n",
       "C349    0.027909\n",
       "C509    0.010202\n",
       "C189    0.009371\n",
       "C169    0.008225\n",
       "C259    0.007858\n",
       "dtype: float64"
      ]
     },
     "execution_count": 23,
     "metadata": {},
     "output_type": "execute_result"
    }
   ],
   "source": [
    "# Proportion of overall deaths caused by each of the top 5 neoplasms\n",
    "sum_mort_s.head()/sum_mort.sum()"
   ]
  },
  {
   "cell_type": "markdown",
   "metadata": {},
   "source": [
    "ICD10 code | Cause                                                      | Number | Proportion \n",
    "-----------|:-----------------------------------------------------------|-------:|-----------:\n",
    "C349       | Malignant neoplasm of unspecified part of bronchus or lung |426450  |  2.19 %    \n",
    "C509       | Malignant neoplasm of breast of unspecified site           |155895  |  0.80 %    \n",
    "C189       | Malignant neoplasm of colon, unspecified                   |143188  |  0.76 %    \n",
    "C169       | Malignant neoplasm of stomach, unspecified                 |125679  |  0.63 %   \n",
    "C259       | Malignant neoplasm of pancreas, unspecified                |120069  |  0.62 %    \n",
    "\n",
    "#### Table showing cause of top 5 causes of death from neoplasm with ICD10 code, number of deaths, and proportion of overall deaths, for Italy for all years recorded by the WHO"
   ]
  },
  {
   "cell_type": "code",
   "execution_count": 24,
   "metadata": {},
   "outputs": [
    {
     "data": {
      "image/png": "[encoded data removed]",
      "text/plain": [
       "<Figure size 432x288 with 1 Axes>"
      ]
     },
     "metadata": {},
     "output_type": "display_data"
    }
   ],
   "source": [
    "# https://matplotlib.org/examples/color/colormaps_reference.html\n",
    "# https://matplotlib.org/examples/color/named_colors.html\n",
    "\n",
    "fig1, ax1 = plt.subplots()\n",
    "\n",
    "colors = ['yellowgreen', 'gold', 'lightskyblue', 'lightcoral', 'lemonchiffon']\n",
    "\n",
    "labels = sum_mort_s.head().index.values\n",
    "sizes = sum_mort_s.head().values\n",
    "\n",
    "ax1.pie(sizes, labels=labels, startangle=90, colors=colors)\n",
    "ax1.axis('equal')  # Equal aspect ratio ensures that pie is drawn as a circle.\n",
    "\n",
    "plt.title(\"Pie chart illustrating the relative proportions of deaths caused by each of the 'top 5' neoplasms in Italy\")\n",
    "plt.savefig('italy_pie_t5.png', bbox_inches='tight')\n",
    "plt.show()"
   ]
  },
  {
   "cell_type": "markdown",
   "metadata": {},
   "source": [
    "### All deaths, all years, for country above (Italy)"
   ]
  },
  {
   "cell_type": "code",
   "execution_count": 25,
   "metadata": {},
   "outputs": [
    {
     "data": {
      "text/plain": [
       "15280086.0"
      ]
     },
     "execution_count": 25,
     "metadata": {},
     "output_type": "execute_result"
    }
   ],
   "source": [
    "sum_mort_all = country_mort[lbls].sum(axis=1).sum(axis=0)\n",
    "\n",
    "# axis = 0 will sum different years and male and female\n",
    "# axis = 1 will sum all the different age groups\n",
    "\n",
    "sum_mort_all # All deaths, all years for the country above"
   ]
  },
  {
   "cell_type": "code",
   "execution_count": 29,
   "metadata": {},
   "outputs": [
    {
     "name": "stdout",
     "output_type": "stream",
     "text": [
      "Deaths from neoplasms 2248655.0\n",
      "All deaths 15280086.0\n"
     ]
    }
   ],
   "source": [
    "print('Deaths from neoplasms', num_all_n)\n",
    "print('All deaths', sum_mort_all)"
   ]
  },
  {
   "cell_type": "code",
   "execution_count": 30,
   "metadata": {},
   "outputs": [
    {
     "data": {
      "image/png": "[encoded data removed]",
      "text/plain": [
       "<Figure size 432x288 with 1 Axes>"
      ]
     },
     "metadata": {},
     "output_type": "display_data"
    }
   ],
   "source": [
    "labels = ['Neoplasms', 'All other causes']\n",
    "sizes = [num_all_n, sum_mort_all - num_all_n]\n",
    "colors = ['yellowgreen', 'lemonchiffon']\n",
    "\n",
    "fig1, ax1 = plt.subplots()\n",
    "\n",
    "ax1.pie(sizes, labels=labels, startangle=90, colors=colors)\n",
    "ax1.axis('equal')  # Equal aspect ratio ensures that pie is drawn as a circle.\n",
    "plt.title('Pie chart illustrating the proportion of overall deaths that are caused by all types of neoplasms in Italy')\n",
    "plt.savefig('italy_pie_neo.png', bbox_inches='tight')\n",
    "plt.show()"
   ]
  },
  {
   "cell_type": "markdown",
   "metadata": {},
   "source": [
    "4.  Are there differences by age group for deaths from Neoplasms (C00-D48) in Australia for 2010?  \n",
    "  * Identify the top five age groups in Australia dying with a Neoplasms cause of death. "
   ]
  },
  {
   "cell_type": "markdown",
   "metadata": {},
   "source": [
    "## Australia\n",
    "### Deaths from neoplasms for separate age groups, one country, one year"
   ]
  },
  {
   "cell_type": "code",
   "execution_count": 44,
   "metadata": {},
   "outputs": [
    {
     "name": "stdout",
     "output_type": "stream",
     "text": [
      "Australia 2010\n",
      "Cause\n",
      "C349    7989.0\n",
      "C61     3236.0\n",
      "C509    2865.0\n",
      "C809    2783.0\n",
      "C259    2367.0\n",
      "dtype: float64\n"
     ]
    }
   ],
   "source": [
    "country = 'Australia'\n",
    "year = '2010'\n",
    "\n",
    "country_code = c_codes[c_codes['name'] == country]['country'].item()\n",
    "country_mort = mort[(mort['Country'] == str(country_code)) & (mort['Year'] == year)]\n",
    "\n",
    "neo_mort = country_mort.loc[(country_mort['Cause'].str[0] == 'C') | \n",
    "                              (country_mort['Cause'].str[:2].isin(['D0', 'D1', 'D2', 'D3', 'D4']))]\n",
    "\n",
    "# D49 is neoplasm, though not in the assignment criteria, but is not used in the WHO data anyway\n",
    "\n",
    "mort_n = neo_mort[lbls].sum(axis=0)\n",
    "# mort_n is a series - of deaths by age group for the country and year above for neoplasms\n",
    "\n",
    "sum_mort_all = country_mort[lbls].sum(axis=0) \n",
    "# sum_mort_all is a series - of deaths by age group for the country and year above for all causes\n",
    "# axis = 0 will sum different years and male and female\n",
    "# axis = 1 will sum all the different age groups\n",
    "\n",
    "sum_mort_s = neo_mort.groupby('Cause')[lbls].sum(axis=0).sum(axis=1).sort_values(ascending=False)\n",
    "# neoplasms sorted\n",
    "\n",
    "print(country, year)\n",
    "print(sum_mort_s.head())"
   ]
  },
  {
   "cell_type": "markdown",
   "metadata": {},
   "source": [
    "ICD10 code | Cause                                                      | Number | Proportion \n",
    "-----------|:-----------------------------------------------------------|-------:|-----------:\n",
    "C349       | Malignant neoplasm of unspecified part of bronchus or lung | 7989   |   \n",
    "C61        | Malignant neoplasm of prostate                             | 3236   |\n",
    "C509       | Malignant neoplasm of breast of unspecified site           | 2865   | \n",
    "C809       | Malignant neoplasm, site not specified or unknown          | 2783   |\n",
    "C259       | Malignant neoplasm of pancreas, unspecified                | 2367   |   \n",
    "\n",
    "\n",
    "C189       | Malignant neoplasm of colon, unspecified                   |  |  \n",
    "C169       | Malignant neoplasm of stomach, unspecified                 |  |  \n",
    "\n",
    "\n",
    "#### Table showing cause of top 5 causes of death from neoplasm with ICD10 code, number of deaths, and proportion of overall deaths, for Australia for all years recorded by the WHO"
   ]
  },
  {
   "cell_type": "code",
   "execution_count": 45,
   "metadata": {},
   "outputs": [
    {
     "data": {
      "image/png": "[encoded data removed]",
      "text/plain": [
       "<Figure size 864x576 with 1 Axes>"
      ]
     },
     "metadata": {
      "needs_background": "light"
     },
     "output_type": "display_data"
    }
   ],
   "source": [
    "# https://matplotlib.org/gallery/statistics/barchart_demo.html\n",
    "\n",
    "fig, ax = plt.subplots(figsize=(12,8))\n",
    "\n",
    "index = np.arange(len(lbls))\n",
    "bar_width = 0.35\n",
    "\n",
    "opacity = 0.4\n",
    "\n",
    "rects1 = ax.bar(index, mort_n, bar_width,\n",
    "                alpha=opacity, color='b',\n",
    "                label='Neoplasms')\n",
    "\n",
    "rects2 = ax.bar(index + bar_width, sum_mort_all, bar_width,\n",
    "                alpha=opacity, color='r',\n",
    "                label='All')\n",
    "\n",
    "plt.yticks([10000, 20000, 30000, 40000, 50000], ['10', '20', '30', '40', '50'])\n",
    "plt.ylabel(\"Deaths, in 000's\")\n",
    "ax.set_ylabel('Absolute numbers of deaths in 000s')\n",
    "ax.set_title('Histogram showing absolute numbers of deaths in Australia, in 2010, \\n'\n",
    "             'from neoplasms, and from all causes - including neoplasms')\n",
    "ax.set_xticks(index + bar_width / 2)\n",
    "ax.set_xticklabels(chart_lbls, rotation='90')\n",
    "ax.legend()\n",
    "\n",
    "fig.tight_layout()\n",
    "plt.savefig('aus_bar_all_neo.png', bbox_inches='tight')\n",
    "plt.show()"
   ]
  },
  {
   "cell_type": "code",
   "execution_count": 46,
   "metadata": {},
   "outputs": [
    {
     "data": {
      "image/png": "[encoded data removed]",
      "text/plain": [
       "<Figure size 864x288 with 1 Axes>"
      ]
     },
     "metadata": {
      "needs_background": "light"
     },
     "output_type": "display_data"
    }
   ],
   "source": [
    "# Proportion of deaths from neoplasms\n",
    "\n",
    "plt.figure(figsize=(12,4))\n",
    "\n",
    "plt.subplot(1,1,1)\n",
    "plt.bar(np.arange(24), height=((mort_n / sum_mort_all) * 100), color='#f9bc86')\n",
    "plt.bar(np.arange(24), bottom=((mort_n / sum_mort_all) * 100), height=(100-((mort_n / sum_mort_all) * 100)), color='#b5ffb9')\n",
    "\n",
    "plt.xticks(np.arange(24), chart_lbls, rotation='90')\n",
    "\n",
    "plt.ylabel('Percentage of deaths')\n",
    "plt.title('Percentage of deaths caused by neoplasms, and by all other causes, for different age groups')\n",
    "plt.savefig('aus_bar_prop.png', bbox_inches='tight')\n",
    "plt.show()"
   ]
  },
  {
   "cell_type": "code",
   "execution_count": 47,
   "metadata": {},
   "outputs": [
    {
     "data": {
      "text/html": [
       "<div>\n",
       "<style scoped>\n",
       "    .dataframe tbody tr th:only-of-type {\n",
       "        vertical-align: middle;\n",
       "    }\n",
       "\n",
       "    .dataframe tbody tr th {\n",
       "        vertical-align: top;\n",
       "    }\n",
       "\n",
       "    .dataframe thead th {\n",
       "        text-align: right;\n",
       "    }\n",
       "</style>\n",
       "<table border=\"1\" class=\"dataframe\">\n",
       "  <thead>\n",
       "    <tr style=\"text-align: right;\">\n",
       "      <th></th>\n",
       "      <th>label</th>\n",
       "      <th>number</th>\n",
       "    </tr>\n",
       "  </thead>\n",
       "  <tbody>\n",
       "    <tr>\n",
       "      <th>20</th>\n",
       "      <td>Deaths at age 80-84 years</td>\n",
       "      <td>7167</td>\n",
       "    </tr>\n",
       "    <tr>\n",
       "      <th>19</th>\n",
       "      <td>Deaths at age 75-79 years</td>\n",
       "      <td>6291</td>\n",
       "    </tr>\n",
       "    <tr>\n",
       "      <th>18</th>\n",
       "      <td>Deaths at age 70-74 years</td>\n",
       "      <td>5713</td>\n",
       "    </tr>\n",
       "    <tr>\n",
       "      <th>21</th>\n",
       "      <td>Deaths at age 85-89 years</td>\n",
       "      <td>5520</td>\n",
       "    </tr>\n",
       "    <tr>\n",
       "      <th>17</th>\n",
       "      <td>Deaths at age 65-69 years</td>\n",
       "      <td>4768</td>\n",
       "    </tr>\n",
       "  </tbody>\n",
       "</table>\n",
       "</div>"
      ],
      "text/plain": [
       "                        label number\n",
       "20  Deaths at age 80-84 years   7167\n",
       "19  Deaths at age 75-79 years   6291\n",
       "18  Deaths at age 70-74 years   5713\n",
       "21  Deaths at age 85-89 years   5520\n",
       "17  Deaths at age 65-69 years   4768"
      ]
     },
     "execution_count": 47,
     "metadata": {},
     "output_type": "execute_result"
    }
   ],
   "source": [
    "# Top 5 age groups in Australia dying with a neoplasms cause of death\n",
    "top_5_age = pd.DataFrame([chart_lbls, mort_n.tolist()]).T\n",
    "top_5_age.columns=['label', 'number']\n",
    "top_5_age.sort_values(by='number', ascending = False).head()"
   ]
  },
  {
   "cell_type": "markdown",
   "metadata": {},
   "source": [
    "5.  Compare and contrast the frequency of deaths by Neoplasms in Italy and Australia in 2010. \n",
    "  * Combine information on the population and deaths and describe your logic. \n",
    "  * Use descriptive statistics and plots. "
   ]
  },
  {
   "cell_type": "markdown",
   "metadata": {},
   "source": [
    "### Italy\n",
    "### Analysis below is for 1 year, previous analysis for Italy above was for all years"
   ]
  },
  {
   "cell_type": "code",
   "execution_count": 50,
   "metadata": {},
   "outputs": [],
   "source": [
    "country = 'Italy'\n",
    "year = '2010'\n",
    "\n",
    "country_code = c_codes[c_codes['name'] == country]['country'].item()\n",
    "country_mort = mort[(mort['Country'] == str(country_code)) & (mort['Year'] == year)]\n",
    "\n",
    "cause_mort = country_mort.loc[(country_mort['Cause'].str[0] == 'C') | \n",
    "                              (country_mort['Cause'].str[:2].isin(['D0', 'D1', 'D2', 'D3', 'D4']))]\n",
    "\n",
    "# D49 is neoplasm, though not in the assignment criteria, but is not used in the WHO data anyway\n",
    "\n",
    "mort_n = cause_mort.groupby('Cause')[lbls].sum(axis=0)\n",
    "\n",
    "mort_n = mort_n.sum(axis=0) \n",
    "# mort_n is a series - of deaths by age group for the country and year above for neoplasms\n",
    "\n",
    "sum_mort_all = country_mort[lbls].sum(axis=0) \n",
    "# sum_mort_all is a series - of deaths by age group for the country and year above for all causes\n",
    "\n",
    "# axis = 0 will sum different years and male and female\n",
    "# axis = 1 will sum all the different age groups"
   ]
  },
  {
   "cell_type": "code",
   "execution_count": 51,
   "metadata": {},
   "outputs": [
    {
     "name": "stdout",
     "output_type": "stream",
     "text": [
      "Italy 2010\n",
      "Cause\n",
      "C349    33416.0\n",
      "C509    12231.0\n",
      "C189    11638.0\n",
      "C259     9683.0\n",
      "C169     9523.0\n",
      "dtype: float64\n"
     ]
    }
   ],
   "source": [
    "sum_mort_n = cause_mort.groupby('Cause')[lbls].sum(axis=0).sum(axis=1)\n",
    "\n",
    "# axis = 0 will sum different years and male and female\n",
    "# axis = 1 will sum all the different age groups\n",
    "\n",
    "num_all_n = sum_mort_n.sum()\n",
    "\n",
    "sum_mort_s = sum_mort_n.sort_values(ascending=False) # Tops 5 neoplasms as cause of death\n",
    "\n",
    "print(country, year)\n",
    "print(sum_mort_s.head())\n",
    "\n",
    "num_5_n = sum_mort_s.head().sum() # sum of top 5"
   ]
  },
  {
   "cell_type": "code",
   "execution_count": 52,
   "metadata": {},
   "outputs": [
    {
     "data": {
      "image/png": "[encoded data removed]",
      "text/plain": [
       "<Figure size 864x576 with 1 Axes>"
      ]
     },
     "metadata": {
      "needs_background": "light"
     },
     "output_type": "display_data"
    }
   ],
   "source": [
    "# https://matplotlib.org/gallery/statistics/barchart_demo.html\n",
    "\n",
    "fig, ax = plt.subplots(figsize=(12,8))\n",
    "\n",
    "index = np.arange(len(lbls))\n",
    "bar_width = 0.35\n",
    "\n",
    "opacity = 0.4\n",
    "\n",
    "rects1 = ax.bar(index, mort_n, bar_width,\n",
    "                alpha=opacity, color='b',\n",
    "                label='Neoplasms')\n",
    "\n",
    "rects2 = ax.bar(index + bar_width, sum_mort_all, bar_width,\n",
    "                alpha=opacity, color='r',\n",
    "                label='All')\n",
    "\n",
    "plt.yticks([50000, 100000, 150000, 200000, 250000], ['50', '100', '150', '200', '250'])\n",
    "ax.set_ylabel('Absolute numbers of deaths in 000s')\n",
    "ax.set_title('Histogram showing absolute numbers of deaths in Australia, in 2010, \\n'\n",
    "             'from neoplasms, and from all causes - including neoplasms')\n",
    "ax.set_xticks(index + bar_width / 2)\n",
    "ax.set_xticklabels(chart_lbls, rotation='90')\n",
    "ax.legend()\n",
    "\n",
    "fig.tight_layout()\n",
    "plt.savefig('italy_bar_all_neo.png', bbox_inches='tight')\n",
    "plt.show()"
   ]
  },
  {
   "cell_type": "code",
   "execution_count": 53,
   "metadata": {},
   "outputs": [
    {
     "data": {
      "image/png": "[encoded data removed]",
      "text/plain": [
       "<Figure size 1080x288 with 1 Axes>"
      ]
     },
     "metadata": {
      "needs_background": "light"
     },
     "output_type": "display_data"
    }
   ],
   "source": [
    "# Proportion of deaths from neoplasms\n",
    "\n",
    "plt.figure(figsize=(15,4))\n",
    "\n",
    "plt.subplot(1,1,1)\n",
    "plt.bar(np.arange(24), height=((mort_n / sum_mort_all) * 100), color='#f9bc86')\n",
    "plt.bar(np.arange(24), bottom=((mort_n / sum_mort_all) * 100), height=(100-((mort_n / sum_mort_all) * 100)), color='#b5ffb9')\n",
    "\n",
    "lbls = sum_mort.index.values\n",
    "\n",
    "plt.xticks(np.arange(24), chart_lbls, rotation='90')\n",
    "plt.savefig('italy_bar_prop.png', bbox_inches='tight')\n",
    "plt.show()"
   ]
  },
  {
   "cell_type": "code",
   "execution_count": 55,
   "metadata": {},
   "outputs": [
    {
     "data": {
      "text/plain": [
       "175046.0"
      ]
     },
     "execution_count": 55,
     "metadata": {},
     "output_type": "execute_result"
    }
   ],
   "source": [
    "countries = ['Italy']\n",
    "\n",
    "year = '2010'\n",
    "\n",
    "temp_mort = mort[(mort['Country'] == str(country_code)) & (mort['Year'] == year)]\n",
    "\n",
    "neo_mort = temp_mort.loc[(temp_mort['Cause'].str[0] == 'C') | \n",
    "                              (temp_mort['Cause'].str[:2].isin(['D0', 'D1', 'D2', 'D3', 'D4']))]\n",
    "\n",
    "mort_n = neo_mort.groupby('Cause')['Deaths1'].sum(axis=0)\n",
    "\n",
    "mort_n_fnl = mort_n.sum(axis=0) \n",
    "\n",
    "mort_n_fnl"
   ]
  },
  {
   "cell_type": "code",
   "execution_count": 58,
   "metadata": {},
   "outputs": [
    {
     "name": "stdout",
     "output_type": "stream",
     "text": [
      "Italy ( 4180 ) Population 60483386 \n",
      "  Mortality 1169230 as a percentage 1.93 % \n",
      "  Neoplasm mortality  175046  as a percentage of all deaths 14.97 %\n",
      "Australia ( 5020 ) Population 22297515 \n",
      "  Mortality 286946 as a percentage 1.29 % \n",
      "  Neoplasm mortality  43316  as a percentage of all deaths 15.10 %\n"
     ]
    }
   ],
   "source": [
    "# Two\n",
    "countries = ['Italy', 'Australia']\n",
    "\n",
    "year = '2010'\n",
    "\n",
    "for country in countries:\n",
    "    country_code = c_codes[c_codes['name']== country]['country'].item()\n",
    "    country_pop = pop.loc[(pop['Country'] == country_code) & \n",
    "                            (pop['Year'] == int(year))]['Pop1'].sum()    \n",
    "    country_mort = mort[(mort['Country'] == str(country_code)) & \n",
    "                            (mort['Year'] == year)]['Deaths1'].sum()\n",
    "\n",
    "    neo_mort = mort[(mort['Country'] == str(country_code)) & (mort['Year'] == year)]\n",
    "    neo_mort = neo_mort.loc[(neo_mort['Cause'].str[0] == 'C') | \n",
    "                              (neo_mort['Cause'].str[:2].isin(['D0', 'D1', 'D2', 'D3', 'D4']))]\n",
    "    mort_n_fnl = neo_mort['Deaths1'].sum().sum() # Sums male and female for each cause, and selects all the age groups\n",
    "\n",
    "    prcnt_pop = (country_mort/country_pop) * 100\n",
    "    prcnt_neo = (mort_n_fnl/country_mort) * 100\n",
    "    \n",
    "    print(country, '(', country_code, ')', \n",
    "        'Population %.0f' % country_pop, '\\n'\n",
    "        '  Mortality %.0f' % country_mort, \n",
    "        'as a percentage %.2f %%' % prcnt_pop, '\\n'\n",
    "        '  Neoplasm mortality  %.0f' % mort_n_fnl,\n",
    "        ' as a percentage of all deaths %.2f %%' % prcnt_neo)"
   ]
  },
  {
   "cell_type": "code",
   "execution_count": null,
   "metadata": {},
   "outputs": [],
   "source": [
    "\n",
    "\n"
   ]
  }
 ],
 "metadata": {
  "kernelspec": {
   "display_name": "Python 3",
   "language": "python",
   "name": "python3"
  },
  "language_info": {
   "codemirror_mode": {
    "name": "ipython",
    "version": 3
   },
   "file_extension": ".py",
   "mimetype": "text/x-python",
   "name": "python",
   "nbconvert_exporter": "python",
   "pygments_lexer": "ipython3",
   "version": "3.7.0"
  }
 },
 "nbformat": 4,
 "nbformat_minor": 2
}
